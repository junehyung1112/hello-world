{
  "nbformat": 4,
  "nbformat_minor": 0,
  "metadata": {
    "colab": {
      "name": "11강. 컨볼루션 신경망",
      "provenance": [],
      "collapsed_sections": [],
      "authorship_tag": "ABX9TyMqmaOxOzxG8is7EI9iAFV/",
      "include_colab_link": true
    },
    "kernelspec": {
      "name": "python3",
      "display_name": "Python 3"
    },
    "accelerator": "GPU"
  },
  "cells": [
    {
      "cell_type": "markdown",
      "metadata": {
        "id": "view-in-github",
        "colab_type": "text"
      },
      "source": [
        "<a href=\"https://colab.research.google.com/github/junehyung1112/hello-world/blob/master/11%EA%B0%95_%EC%BB%A8%EB%B3%BC%EB%A3%A8%EC%85%98_%EC%8B%A0%EA%B2%BD%EB%A7%9D.ipynb\" target=\"_parent\"><img src=\"https://colab.research.google.com/assets/colab-badge.svg\" alt=\"Open In Colab\"/></a>"
      ]
    },
    {
      "cell_type": "code",
      "metadata": {
        "id": "QMz2Oj76wUb-",
        "colab_type": "code",
        "colab": {}
      },
      "source": [
        "#컨볼루션 신경망을 통해서 2차원 도형을 인식할 수 있고  학습 결과를 분석할 수 있음\n",
        "#컨볼루션 신경망(cnn) : 이미지로부터 직접 공간적 특징을 학습.\n",
        "#기하학적 변형에도 강함.\n",
        "#학습한 필터를 사용해 특징이 추출되면 기존 신경망을 사용해 분류.\n",
        "#cnn도 역전파 오류 알고리즘을 사용해 학습을 수행.\n",
        "#입력이미지 -> 컨볼루션 계층(필터링 수행) -> 풀링 계층(이미지 크기 줄임) -> 다층 신경망 계층(이미지를 분류)\n",
        "#컨볼루션 및 풀링 계층을 반복적으로 사용해 다층 구성, 신경망도 다수의 은닉층을 포함한 다층 구조.\n",
        "#컨볼루션 계층과 풀링 계층을 다층으로 구성할 경우 각 계층을 통과할 때마다 다양한 의미를 갖는 필터 학습\n",
        "#입력과 가까운 계층에서는 대체로 저차원의 필터를 학습.\n",
        "#예를 들어: 얼굴 데이터가 주어졌을 때, 저차원 필터는 전체적으로 밝고 어두운 부분, 특정 방향 구분 을 수행\n",
        "#그 다음 계층에서는 저차원 필터를 조합해 중간 레벨 필터를 학습->눈,코,입과 같은 영역을 학습 가능.\n",
        "#다음 계층에서는 중간 레벨 필터를 통해 고차원 필터가 만들어짐. -> 얼굴 인식이 가능\n",
        "\n",
        "#컨볼루션 계층:\n",
        "#32*32크기의 이미지가 주어짐. -> 5*5필터 6개로 컨볼루션 연산 수행 -> sigmoid 함수를 통해 최종 특징맵이 만들어짐\n",
        "#이때 특정맵의 크기는 32*32*6\n",
        "#컨볼루션 연산을 하는 과정에서 가장자리 픽셀들은 이웃하는 픽셀 정보가 없어서 연산 수행 불가능\n",
        "#그래서 5*5입력이미지에 3*3필터를 거치면 3*3출력 영상이 나옴. : 입력 이미지의 크기가 줄어듬\n",
        "#컨볼루션 계층을 여러번 거쳐도 영상의 크기를 유지할 수 있도록 입력 영상의 가장자리에 0으로 padding을 수행\n",
        "#padding=데이터의 외부에 일정한 값의 계층을 덧대는 것.(zero padding을 주로 사용)\n",
        "#출력 영상 크기 = (2p+n) * (2p+n) p=padding 값, n= 입력 영상의 크기\n",
        "#stride = 컨볼루션 연산 시 이동하는 x방향과 y방향의 이동량(보폭)\n",
        "#보통 stride값은 1, 한 픽셀씩 이동하면서 연산을 수행.\n",
        "#stride값이 커지면 데이터의 크기가 줄어들 수 있어서 보통 1을 사용.\n",
        "\n",
        "#풀링 계층:\n",
        "#입력 영상의 크기를 줄이는 역할\n",
        "#영상의 크기를 반감해 계산량을 줄이고, 데이터에 치중된 과적합을 방지.\n",
        "#컨볼루션 신경망에서는 많은 데이터를 사용해서 데이터의 크기가 매우 커질 수 있음.\n",
        "#이것이 과적합을 일으킬 수가 있음.\n",
        "#풀링 계층은 영상의 크기를 줄이는 과정에서 대략적인 정보 특성만 남게 됨.\n",
        "#컨볼루션 계층으로 영상이 출력되면\n",
        "#각각의 영상에 대해서 풀링 연산을 통해 반으로 줄어든 영상이 출력.\n",
        "#만약 4*4영상이 있을 경우 이를 풀링해서 2*2로 만들기 위해서 구간을 정하고 거기서 값을 선택해야 함.\n",
        "#만약 왼쪽 상단의 값을 사용하면 left-top pooling\n",
        "#max pooling은 그 구간에서 가장 큰 값을 선택한 것\n",
        "#average pooling은 그 구간의 평균값을 선택.\n",
        "#주로 max pooling을 사용.\n",
        "\n",
        "#컨볼루션 계층과 max pooling 계층으로 묶여진 과정은 반복될 수 있음.\n",
        "\n",
        "#다층 신경망 계층:\n",
        "#이전 계층의 2차원 형태의 데이터를 flatten을 사용해 1차원 벡터로 변환한 뒤 기존 신경망에 전달.\n",
        "#복잡한 분포를 갖는 문제 해결을 위해 마지막 계층을 다층 신경망으로 구성.\n",
        "#컨볼루션 계층과 맥스 풀링 계층은 특징을 추출하는 역할.\n",
        "#신경망 계층은 특징을 분류하는 역할.\n",
        "\n",
        "#cnn 응용분야\n",
        "#1. 영상 인식 분야. "
      ],
      "execution_count": 0,
      "outputs": []
    },
    {
      "cell_type": "code",
      "metadata": {
        "id": "p8jJjDwnDxFe",
        "colab_type": "code",
        "colab": {}
      },
      "source": [
        "#알아볼 것\n",
        "#1. 도형 이미지의 데이터셋 구성\n",
        "#2. 학습 데이터와 테스트 데이터 분할.\n",
        "#3. cnn을 이용한 도형 인식\n",
        "#4. 다층 구조로 확장하기\n",
        "#5. 학습결과 분석 및 시각화.\n",
        "\n",
        "import numpy as np\n",
        "import tensorflow as tf\n",
        "import matplotlib.pyplot as plt\n",
        "from PIL import Image\n",
        "\n",
        "%matplotlib inline\n",
        "\n",
        "sess = tf.Session()\n"
      ],
      "execution_count": 0,
      "outputs": []
    },
    {
      "cell_type": "code",
      "metadata": {
        "id": "Qq1PdBA5Fu-H",
        "colab_type": "code",
        "outputId": "f20c753d-c56f-47e9-8ea2-c258c62b181d",
        "colab": {
          "base_uri": "https://localhost:8080/",
          "height": 125
        }
      },
      "source": [
        "from google.colab import drive #구글 드라이브에서 정보를 가져오기 위해서 코랩과 구글 드라이브를 연동.\n",
        "drive.mount(\"/content/drive\")"
      ],
      "execution_count": 0,
      "outputs": [
        {
          "output_type": "stream",
          "text": [
            "Go to this URL in a browser: https://accounts.google.com/o/oauth2/auth?client_id=947318989803-6bn6qk8qdgf4n4g3pfee6491hc0brc4i.apps.googleusercontent.com&redirect_uri=urn%3aietf%3awg%3aoauth%3a2.0%3aoob&response_type=code&scope=email%20https%3a%2f%2fwww.googleapis.com%2fauth%2fdocs.test%20https%3a%2f%2fwww.googleapis.com%2fauth%2fdrive%20https%3a%2f%2fwww.googleapis.com%2fauth%2fdrive.photos.readonly%20https%3a%2f%2fwww.googleapis.com%2fauth%2fpeopleapi.readonly\n",
            "\n",
            "Enter your authorization code:\n",
            "··········\n",
            "Mounted at /content/drive\n"
          ],
          "name": "stdout"
        }
      ]
    },
    {
      "cell_type": "code",
      "metadata": {
        "id": "7DFGKMZtEFXO",
        "colab_type": "code",
        "outputId": "2377c422-9796-4095-a2b4-c455f5528be2",
        "colab": {
          "base_uri": "https://localhost:8080/",
          "height": 52
        }
      },
      "source": [
        "#네모 세모 원 3개의 클래스를 가진 도형 이미지를 컨볼루션 신경망으로 학습.\n",
        "x_data = [] #도형 이미지를 저장\n",
        "y_data = [] #도형 이미지 레이블 데이터를 저장.\n",
        "\n",
        "im = 10\n",
        "\n",
        "for i in range(40) : #40개의 이미지를 1차원으로 변환한뒤 x_data에 추가.\n",
        "    img = Image.open(('/content/drive/My Drive/file2/shapedata/네모%d.png') % (i+1))\n",
        "    gray = img.convert('L').resize((im, im))     #흑백으로 변환한뒤 10*10으로 변환\n",
        "    data = np.array( gray, dtype='uint8' )    #이미지 데이터를 numpy객체로 변환\n",
        "    x_data.append(  data.flatten()   ) #flatten으로 2차원 데이터를 1차원으로 변환. 40개의 네모 이미지가 추가. 40*100\n",
        "    y_data.append(0) #네모 이미지의 레이블은 0 4 ydata 크기 = 40\n",
        "    \n",
        "for i in range(40) :\n",
        "    img = Image.open(('/content/drive/My Drive/file2/shapedata/세모%d.png') % (i+1))\n",
        "    gray = img.convert('L').resize((im, im))    \n",
        "    data = np.array( gray, dtype='uint8' )    \n",
        "    x_data.append(  data.flatten()   )\n",
        "    y_data.append(1)\n",
        "    \n",
        "for i in range(40) :\n",
        "    img = Image.open(('/content/drive/My Drive/file2/shapedata/원%d.png') % (i+1))\n",
        "    gray = img.convert('L').resize((im, im))    \n",
        "    data = np.array( gray, dtype='uint8' )    \n",
        "    x_data.append(  data.flatten()   )\n",
        "    y_data.append(2)\n",
        "    \n",
        "x_data = np.array(x_data) / 255.0 #x_data리스트를 넘파이 객체로 변환하고 255로 나누어 밝기 값을 0->1\n",
        "y_data = np.array(y_data) #y_data 리스트도 numpy 객체로 변환.\n",
        "print(x_data.shape)\n",
        "print(y_data.shape)\n",
        "#현재 y_data에는 네모이미지는 0, 세모이미지는 1, 원이미지는 2의 레이블 값으로 저장되어있음."
      ],
      "execution_count": 0,
      "outputs": [
        {
          "output_type": "stream",
          "text": [
            "(120, 100)\n",
            "(120,)\n"
          ],
          "name": "stdout"
        }
      ]
    },
    {
      "cell_type": "code",
      "metadata": {
        "id": "FVM6FCmlIUgW",
        "colab_type": "code",
        "outputId": "608aee35-3bdc-4378-94b4-bf82ecb81631",
        "colab": {
          "base_uri": "https://localhost:8080/",
          "height": 158
        }
      },
      "source": [
        "#신경망에서는 다중 클래스를 분류하기 위해서 레이블 벡터는 one-hot encoding으로 표현된\n",
        "#2차원 행렬로 표현,\n",
        "#one hot encoding을 하면 0 -> 100 1 -> 010, 2 ->001과 같이\n",
        "#클래스의 개수가 열의 개수가 됨.\n",
        "def one_hot(y, nclass) :\n",
        "    r = y.shape[0]\n",
        "    mat = np.zeros([r, nclass])\n",
        "    for i in range(r) :\n",
        "        mat[i, int(y[i])] = 1        \n",
        "    return mat\n",
        "\n",
        "y_data_onehot = one_hot(y_data, 3)\n",
        "print(y_data.shape)\n",
        "print(y_data[0:5])\n",
        "print(y_data_onehot.shape)\n",
        "print(y_data_onehot[0:5, :])\n"
      ],
      "execution_count": 0,
      "outputs": [
        {
          "output_type": "stream",
          "text": [
            "(120,)\n",
            "[0 0 0 0 0]\n",
            "(120, 3)\n",
            "[[1. 0. 0.]\n",
            " [1. 0. 0.]\n",
            " [1. 0. 0.]\n",
            " [1. 0. 0.]\n",
            " [1. 0. 0.]]\n"
          ],
          "name": "stdout"
        }
      ]
    },
    {
      "cell_type": "markdown",
      "metadata": {
        "id": "y8aFXsfNwpIL",
        "colab_type": "text"
      },
      "source": [
        ""
      ]
    },
    {
      "cell_type": "code",
      "metadata": {
        "id": "ttk6bLyQJNsq",
        "colab_type": "code",
        "outputId": "d92844b6-13a6-4804-c06f-007a23f31832",
        "colab": {
          "base_uri": "https://localhost:8080/",
          "height": 594
        }
      },
      "source": [
        "#1차원으로 저장된 x_data가 제대로 저장됐는지 확인하기 위해 다시 2차원으로 변환.\n",
        "plt.figure(figsize=(10,10))\n",
        "for i  in range(60) : #60개의 이미지만 출력.\n",
        "    plt.subplot(12, 5, i+1)\n",
        "    plt.imshow(x_data[i,:].reshape(im,im), cmap='gray')#x data에서 1차원 데이터를 가져와 2차원으로 변환해 출력.\n",
        "    #데이터는 0~1로 정규화가 되어있지만 imshow 함수가 이를 0~255로 스케일링 해서 출력함.\n",
        "    #그래서 이미지를 복구할 떄 다시 255를 곱할 필요는 없음."
      ],
      "execution_count": 0,
      "outputs": [
        {
          "output_type": "display_data",
          "data": {
            "image/png": "[encoded data removed]",
            "text/plain": [
              "<Figure size 720x720 with 60 Axes>"
            ]
          },
          "metadata": {
            "tags": []
          }
        }
      ]
    },
    {
      "cell_type": "code",
      "metadata": {
        "id": "JAju5grQJ0hQ",
        "colab_type": "code",
        "outputId": "35618b35-b75f-41d7-c22e-4ed476699831",
        "colab": {
          "base_uri": "https://localhost:8080/",
          "height": 52
        }
      },
      "source": [
        "#도형 이미지 데이터 셋을 학습 데이터와 테스트 데이터로 분할.\n",
        "def split(x_data, y_data, rate) : #(이미지데이터 x_data와 이미지 레이블 데이터 y_data, 학습데이터의 비율 )\n",
        "    #학습데이터와 레이블 데이터를 각각 학습과 테스트 데이터로 분할해주는 역할을 수행.\n",
        "    n = x_data.shape[0] #x_data의 행의 개수 즉 이미지 데이터의 개수는 n에 저장.\n",
        "    arr = np.arange(n)   #arrange함수는 인자 n이 주어지면 0~n-1 값으로 이루어진 벡터를 리턴.\n",
        "    np.random.shuffle(arr) #arr 벡터의 값들을 랜덤으로 섞어줌-> 전체 데이터를 랜덤하게 섞음.\n",
        "\n",
        "    n0 = int(n * rate) # 이미지 데이터의 개수 n과 트레인 데이터의 비율을 곱해 저장.\n",
        "    #만약 전체 데이터의 개수 =120 r = 0.8 -> 96개 학습용 나머지 test용.\n",
        "    #학습 데이터의 개수여서 정수로 변환함.\n",
        "\n",
        "\n",
        "    #arr 벡터와 no를 사용해 학습과 테스트용 데이타로 분할\n",
        "    #예를 들어 n0가 96이면 arr에서 0~95까지가 값을 가져옴. arr행렬의 값들을 x벡터의 행의 인덱스로 사용\n",
        "    #x_data에서 랜덤으로 96개를 선택한 후 저장. 나머지는 테스트용.\n",
        "    x_train = x_data[arr[0:n0], :]  \n",
        "    y_train = y_data[arr[0:n0], :]\n",
        "    x_test =  x_data[arr[n0:], :]\n",
        "    y_test =  y_data[arr[n0::], :]\n",
        "    \n",
        "    return (x_train, y_train, x_test, y_test)\n",
        "\n",
        "#split을 사용해 x_data와 y_data를 80% 비율로 학습 세트와 테스트 세트로 분할.\n",
        "x_train, y_train, x_test, y_test = split(x_data, y_data_onehot, 0.8) #80 : 20의 비율\n",
        "\n",
        "print(x_train.shape, y_train.shape)\n",
        "print(x_test.shape, y_test.shape)"
      ],
      "execution_count": 0,
      "outputs": [
        {
          "output_type": "stream",
          "text": [
            "(96, 100) (96, 3)\n",
            "(24, 100) (24, 3)\n"
          ],
          "name": "stdout"
        }
      ]
    },
    {
      "cell_type": "code",
      "metadata": {
        "id": "v5jkz3rOL9tc",
        "colab_type": "code",
        "colab": {}
      },
      "source": [
        "#학습 데이터를 이용해 컨볼루션 신경망을 학습한 후, 테스트 데이터로 정확도 측정.\n",
        "#컨볼루션 계층, 풀링 계층, 은닉층 한개, 출력층 한개로 구성.\n",
        "#클래스는 이미지가 네모, 세모, 원으로 구성 -> class =3\n",
        "#이미지의 크기 = 10 * 10 , 필터는 32개를 사용.\n",
        "#은닉층의 노드 수 = 300\n",
        "\n",
        "nclass = 3\n",
        "dim = im * im\n",
        "nfilter = 32\n",
        "nhidden = 300\n",
        "\n",
        "x = tf.placeholder(\"float\", shape=[None, dim]) #x행은 이미지 데이터의 개수 none, 열은 이미지 데이터의 크기 100\n",
        "y = tf.placeholder(\"float\", shape=[None, nclass]) #실제 레이블 데이터 저장. y행은 이미지 데이터의 개수 none, 열은 클래스의 개수 3\n",
        "#one-hot encoding된 레이블 행렬이 placeholder에 제공됨.\n",
        "\n",
        "#2차원 컨볼루션 연산을 위해 x를 4차원 텐서로 reshape\n",
        "x_image = tf.reshape(x, [-1,im,im,1]) #이미지의 개수(몇개인지 몰라서 -1), 이미지의 높이, 이미지의 폭, 입력 채널 수\n",
        "#실제 이미지 데이터를 넣어주면 이미지 데이터의 개수로 x가 바뀜, 이미지가 grey 영상이라 입력채널은 1개."
      ],
      "execution_count": 0,
      "outputs": []
    },
    {
      "cell_type": "code",
      "metadata": {
        "id": "iCv0pqzJJZn7",
        "colab_type": "code",
        "outputId": "34fad06a-4496-47f6-f81e-eb8bfd966fb3",
        "colab": {
          "base_uri": "https://localhost:8080/",
          "height": 34
        }
      },
      "source": [
        "#컨볼루션 계층 정의하기 \n",
        "#filter를 학습해야 하므로 random하게 초기화함. -> 학습을 통해 최적의 필터 가정치를 계산.\n",
        "#random_normal 함수를 사용해 정규확률 분포값으로 부터 랜덤하게 생성\n",
        "#필터의 4차원 배열 크기는 (필터크기, 필터크기, 입력층의 ()수, 필터 개수)\n",
        "filter = tf.Variable(tf.random_normal([3, 3, 1, nfilter], stddev=0.1)) #input과 컨볼루션 사이의 weight인 filter\n",
        "b = tf.Variable(tf.constant(0.1, shape=[nfilter])) #각각의 필터마다 더해주는 바이어스 변수\n",
        "\n",
        "#conv2d로 conv연산을 하고 여기에 bias를 더해서 sigmoid 함수를 호출.\n",
        "conv = tf.nn.sigmoid(tf.nn.conv2d(x_image, filter, strides=[1, 1, 1, 1], padding='SAME') + b)\n",
        "print(conv.shape)\n",
        "\n",
        "#출력된 4차원 배열의 크기 (?=이미지 데이터의 개수)"
      ],
      "execution_count": 0,
      "outputs": [
        {
          "output_type": "stream",
          "text": [
            "(?, 10, 10, 32)\n"
          ],
          "name": "stdout"
        }
      ]
    },
    {
      "cell_type": "code",
      "metadata": {
        "id": "ZoCHrR6oOTKO",
        "colab_type": "code",
        "outputId": "6f825261-6da9-41b0-adf4-e671ca2cae87",
        "colab": {
          "base_uri": "https://localhost:8080/",
          "height": 34
        }
      },
      "source": [
        "#풀링 계층 정의.\n",
        "#가장 큰 값을 출력하는 max pooling을 이용.\n",
        "#(위에서 계산한 conv 결과, kernel size(4개의 픽셀을 하나의 픽셀로 만들려고 2,2, 첫번째와 네번째가 1인 것은\n",
        "#모든 데이터와 모든 채널에 대해서 계산해야하기 때문), stride는 x축과 y축을 2칸씩 이동.첫번째와 네번째가 1인 것은\n",
        "#모든 데이터와 모든 채널에 대해서 계산해야하기 때문 ), padding은 사용(same)\n",
        "\n",
        "\n",
        "#이렇게 할 경우 poolig 계층을 지나면 원본 데이터가 반으로 줄어듬\n",
        "pool = tf.nn.max_pool(conv, ksize=[1, 2, 2, 1], strides=[1, 2, 2, 1], padding='SAME')\n",
        "print(pool.shape)"
      ],
      "execution_count": 0,
      "outputs": [
        {
          "output_type": "stream",
          "text": [
            "(?, 5, 5, 32)\n"
          ],
          "name": "stdout"
        }
      ]
    },
    {
      "cell_type": "code",
      "metadata": {
        "id": "AvLC1XvUO-Lm",
        "colab_type": "code",
        "outputId": "bc91285a-e7a8-4728-c31b-32ec140337cc",
        "colab": {
          "base_uri": "https://localhost:8080/",
          "height": 87
        }
      },
      "source": [
        "#다층 신경망 계층을 정의, 입력 데이터를 1차원 벡터로 변환.\n",
        "\n",
        "#입력데이터 pool을 2차원에서 1차원으로 변환.\n",
        "#1차원 벡터의 크기는 이미지의 가로/2 * 이미지의 세로/2 * 필터 개수(맥스 풀링을 한번 지나서 2로 나눔)\n",
        "h_flat = tf.reshape(pool, [-1, int(im/2) * int(im/2) * nfilter]) # 크기는 800\n",
        "\n",
        "#풀링 계층과 다층 신경망 계층 사이의 웨이트와 바이어스를 정의\n",
        "w_fc = tf.Variable(tf.random_normal([int(im/2) * int(im/2) * nfilter, nhidden], stddev=0.1))   #1250\n",
        "#바이어스는 0.1 값으로 초기화함. 바이어스는 은닉층에 부과되기 때문에 은닉층의 노드 수 크기의 일차원 벡터가 됨.\n",
        "b_fc = tf.Variable(tf.constant(0.1, shape=[nhidden]))\n",
        "\n",
        "#은닉층의 출력을 계산\n",
        "h_fc = tf.sigmoid(tf.matmul(h_flat, w_fc) + b_fc)\n",
        "\n",
        "print(pool.shape) \n",
        "print(h_flat.shape)\n",
        "print(w_fc.shape)\n",
        "print(h_fc.shape)"
      ],
      "execution_count": 0,
      "outputs": [
        {
          "output_type": "stream",
          "text": [
            "(?, 5, 5, 32)\n",
            "(?, 800)\n",
            "(800, 300)\n",
            "(?, 300)\n"
          ],
          "name": "stdout"
        }
      ]
    },
    {
      "cell_type": "code",
      "metadata": {
        "id": "KGEhAOKDQFHX",
        "colab_type": "code",
        "outputId": "486e7b52-fb3c-486a-bed5-210ee7606813",
        "colab": {
          "base_uri": "https://localhost:8080/",
          "height": 52
        }
      },
      "source": [
        "#은닉층과 출력층 사이의 weight와 bias 정의.\n",
        "w_out = tf.Variable(tf.random_normal([nhidden, nclass], stddev=0.1))\n",
        "#w_out 행렬의 크기는 이전 은닉층의 노드수 (300), 출력층의 노드 수(클래스 수) = 3이 됨.\n",
        "b_out = tf.Variable(tf.constant(0.1, shape=[nclass]))\n",
        "#출력층의 노드수로 이루어진 일차원 벡터.\n",
        "\n",
        "#출력층의 출력을 계산.\n",
        "logits = tf.matmul(h_fc, w_out) + b_out \n",
        "\n",
        "print(w_out.shape)#출력층의 가중치 행렬 w_out의 크기\n",
        "print(logits.shape)#출력층의 출력 행렬 logit의 크기"
      ],
      "execution_count": 0,
      "outputs": [
        {
          "output_type": "stream",
          "text": [
            "(300, 3)\n",
            "(?, 3)\n"
          ],
          "name": "stdout"
        }
      ]
    },
    {
      "cell_type": "code",
      "metadata": {
        "id": "uHGLHHdEQrm8",
        "colab_type": "code",
        "colab": {}
      },
      "source": [
        "#신경망의 출력을 softmax를 사용해 확률값을 계산하고 학습 데이터에 대한 추정값을 계산.\n",
        "hypothesis = tf.nn.softmax(logits)\n",
        "\n",
        "#cost는 멀티 클래스여서 cross-entropy를 사용\n",
        "cost = -tf.reduce_mean(y*tf.log(hypothesis))\n",
        "#경사하강법 사용\n",
        "update = tf.train.GradientDescentOptimizer(0.1).minimize(cost)\n",
        "\n",
        "    \n",
        "#예측값은 armax로 계산. 주어진 입력에서 최댓값을 가진 값의 인덱스를 계산.\n",
        "# argmax    :  [ 0.2   0.1   0.7    ]   -> 2\n",
        "predicted = tf.argmax(hypothesis, 1) #1 = 행을 기준 0 = 열을 기준\n",
        "#hypothesis의 크기가 데이터의 개수 * 클래스 수이기 때문에 행을 기준으로 최댓값을 구하면\n",
        "#각각의 데이터에 대한 예측값을 계산할 수 있음.\n",
        "\n",
        "#predict \n",
        "#  equal  [  1 1  1 1   ] ==  [ 0 0 1 1 ]   ->  [ false false true rue]\n",
        "#  cast [ false false true true ]  ->  [ 0 0 1 1 ]\n",
        "# reduce_mean[ 0 0 1 1] -> 2/4 = 0.5 ->모든 원소의 값을 더해서 원소의 개수로 나누는 함수.\n",
        "accuracy = tf.reduce_mean(tf.cast(tf.equal(predicted, tf.argmax(y, 1)), tf.float32))"
      ],
      "execution_count": 0,
      "outputs": []
    },
    {
      "cell_type": "code",
      "metadata": {
        "id": "FcCQHw8BRZzJ",
        "colab_type": "code",
        "outputId": "f9d8fb6e-0eb9-470c-df23-760ec6decece",
        "colab": {
          "base_uri": "https://localhost:8080/",
          "height": 122
        }
      },
      "source": [
        "#추정해야하는 가중치들. \n",
        "print(filter.shape) #3*3크기의 filter 32개에 대한 가중치 = 288개\n",
        "print(b.shape) #필터에 대한 바이어스 32개\n",
        "print(w_fc.shape) #은닉층의 가중치 24만개\n",
        "print(b_fc.shape) #은닉층의 바이어스 300개\n",
        "print(w_out.shape) #출력층의 가중치 900개\n",
        "print(b_out.shape) #출력층의 바이어스 3개\n",
        "#학습해야하는 가중치에 비해 학습 데이터가 너무 작아 학습이 제대로 안될 수도 있음."
      ],
      "execution_count": 0,
      "outputs": [
        {
          "output_type": "stream",
          "text": [
            "(3, 3, 1, 32)\n",
            "(32,)\n",
            "(800, 300)\n",
            "(300,)\n",
            "(300, 3)\n",
            "(3,)\n"
          ],
          "name": "stdout"
        }
      ]
    },
    {
      "cell_type": "code",
      "metadata": {
        "id": "hkP4eD1ySxnr",
        "colab_type": "code",
        "outputId": "69583b2a-23c5-46b9-9ace-b5b5f90273c6",
        "colab": {
          "base_uri": "https://localhost:8080/",
          "height": 404
        }
      },
      "source": [
        "#학습 시작.\n",
        "sess.run(tf.global_variables_initializer())\n",
        "\n",
        "#학습횟수= 6000번\n",
        "#학습 시에는 x_train과 y_train 테스트 시에는 x_test와 y_test를 이용.\n",
        "for i in range(6001) :    \n",
        "    sess.run(update,feed_dict={x: x_train, y: y_train})\n",
        "    \n",
        "    if i % 300 == 0 :\n",
        "        a, c = sess.run([accuracy, cost], feed_dict={ x:x_test, y: y_test})\n",
        "        print(i, \"test : \",  a, c)    \n",
        "a = sess.run(accuracy, feed_dict={ x:x_train, y: y_train})     \n",
        "print(a)\n",
        "#학습 데이터에 대한 정확도는 0.989이지만 테스트 데이터에 대한 정확도는 대략 70~85%로 나옴."
      ],
      "execution_count": 0,
      "outputs": [
        {
          "output_type": "stream",
          "text": [
            "0 test :  0.25 0.40764868\n",
            "300 test :  0.5833333 0.35175407\n",
            "600 test :  0.7916667 0.30058533\n",
            "900 test :  0.7916667 0.2488096\n",
            "1200 test :  0.8333333 0.21828005\n",
            "1500 test :  0.7916667 0.19890158\n",
            "1800 test :  0.7916667 0.18528083\n",
            "2100 test :  0.7916667 0.17438622\n",
            "2400 test :  0.8333333 0.16529004\n",
            "2700 test :  0.8333333 0.15769473\n",
            "3000 test :  0.7916667 0.1490518\n",
            "3300 test :  0.8333333 0.1423393\n",
            "3600 test :  0.8333333 0.1381144\n",
            "3900 test :  0.8333333 0.13448614\n",
            "4200 test :  0.8333333 0.13138354\n",
            "4500 test :  0.8333333 0.12888286\n",
            "4800 test :  0.8333333 0.12704861\n",
            "5100 test :  0.8333333 0.126039\n",
            "5400 test :  0.8333333 0.12619784\n",
            "5700 test :  0.8333333 0.12779856\n",
            "6000 test :  0.8333333 0.1287126\n",
            "0.9583333\n"
          ],
          "name": "stdout"
        }
      ]
    },
    {
      "cell_type": "code",
      "metadata": {
        "id": "afJ8JQ3oTX5p",
        "colab_type": "code",
        "colab": {}
      },
      "source": [
        "#컨볼루션, 신경망, output 계층 함수로 만들어 일반화\n",
        "\n",
        "#1. 컨볼루션 계층을 생성하는 함수 정의.\n",
        "\n",
        "def convolutionLayer(input, nfilter, sfilter) : #입력데이터(4차원 텐서), 필터의 개수, 필터의 크기\n",
        "    \n",
        "    size = input.shape.as_list()  #입력데이터의 shape 정보는 as_list함수를 사용해 list함수로 변환해 size에 저장.\n",
        "    nhidden = size[3]       #size의 3번째 인덱스의 열을 가져와 nhidden에 저장. \n",
        "    #nhidden은 입력 데이터가 영상(초기 데이터)일 때, 입력 이미지 데이터의 채널 수\n",
        "    #입력 데이터가 컨볼루션이 계산된 특징맵일(초기 데이터x) 경우, 이전층의 필터수 즉 이전층의 출력채널 수가 됨.\n",
        "    \n",
        "    #필터(초기화, 크기, 이전 층 필터개수, 출력할 필터 개수)\n",
        "    filter = tf.Variable(tf.random_normal([sfilter, sfilter, nhidden, nfilter], stddev=0.1))\n",
        "    b = tf.Variable(tf.constant(0.1, shape=[nfilter])) #출력할 필터 수 크기의 벡터.\n",
        "    conv = tf.nn.sigmoid(tf.nn.conv2d(input, filter, strides=[1, 1, 1, 1], padding='SAME') + b)\n",
        "    pool = tf.nn.max_pool(conv, ksize=[1, 2, 2, 1], strides=[1, 2, 2, 1], padding='SAME')    \n",
        "    return pool #풀링 층을 거친 결과를 return"
      ],
      "execution_count": 0,
      "outputs": []
    },
    {
      "cell_type": "code",
      "metadata": {
        "id": "xIVZgzoyVhl5",
        "colab_type": "code",
        "colab": {}
      },
      "source": [
        "\n",
        "def neuralnetworkLayer(pool, nhidden) : #(입력 데이터(4차원 텐서), 은닉층의 노드수)\n",
        "    \n",
        "    #2차원 필터로 이루어진 데이터를 1차원 데이터로 변경\n",
        "    #이전에는 영상 크기와 필터 크기를 직접 계산했지만, 여기서는 임의의 크기 영상이 사용될 수 있고\n",
        "    #convoluton이 여러번 사용될 수 있기 때문에, 입력 데이터로 부터 일차원으로 만들 크기를 계산.\n",
        "    #1차원 데이터의 크기는 입력 데이터의 높이와 폭 그리고 이전 층의 필터 개수가 됨.\n",
        "    size = pool.shape.as_list()    \n",
        "    flatten =  size[1] *  size[2] * size[3] \n",
        "    \n",
        "    h_flatten = tf.reshape(pool, [-1, flatten]) #4차원 배열을 2차원 배열로 reshape하게 됨. \n",
        "    \n",
        "    w_fc = tf.Variable(tf.random_normal([flatten, nhidden], stddev=0.1))\n",
        "    b_fc = tf.Variable(tf.constant(0.1, shape=[nhidden]))\n",
        "    \n",
        "    h_fc = tf.nn.sigmoid(tf.matmul(h_flatten, w_fc) + b_fc)\n",
        "    \n",
        "    \n",
        "    return  h_fc    "
      ],
      "execution_count": 0,
      "outputs": []
    },
    {
      "cell_type": "code",
      "metadata": {
        "id": "h6U04XLLWiag",
        "colab_type": "code",
        "colab": {}
      },
      "source": [
        "def outputLayer(h_fc, nclass) :       #입력 데이터(이전 은닉층의 출력인 2차원 행렬), 분류할 클래스 수.      \n",
        "    size = h_fc.shape.as_list()        \n",
        "    nhidden = size[1]\n",
        "    w_fc = tf.Variable(tf.random_normal([nhidden, nclass], stddev=0.1)) \n",
        "    b_fc = tf.Variable(tf.constant(0.1, shape=[nclass]))\n",
        "    logits = tf.matmul(h_fc, w_fc) + b_fc\n",
        "    return  logits"
      ],
      "execution_count": 0,
      "outputs": []
    },
    {
      "cell_type": "code",
      "metadata": {
        "id": "uGRf6qt1W9LL",
        "colab_type": "code",
        "outputId": "827e81cd-8c50-41dd-b481-af9dbba08fed",
        "colab": {
          "base_uri": "https://localhost:8080/",
          "height": 87
        }
      },
      "source": [
        "pool = convolutionLayer(x_image, 32, 3)  #필터수 32개 필터크기 3\n",
        "hidden = neuralnetworkLayer(pool, 300) #은닉층 300개\n",
        "logits = outputLayer(hidden, 3) \n",
        "\n",
        "print(x_image.shape)\n",
        "print(pool.shape)\n",
        "print(hidden.shape)\n",
        "print(logits.shape)\n",
        "\n",
        "#필요한 인자만 설정해 가며 실험이 가능."
      ],
      "execution_count": 0,
      "outputs": [
        {
          "output_type": "stream",
          "text": [
            "(?, 10, 10, 1)\n",
            "(?, 5, 5, 32)\n",
            "(?, 300)\n",
            "(?, 3)\n"
          ],
          "name": "stdout"
        }
      ]
    },
    {
      "cell_type": "code",
      "metadata": {
        "id": "9JhW-0JeXJsG",
        "colab_type": "code",
        "outputId": "d1995d8b-5833-4a23-8647-3038492a86ec",
        "colab": {
          "base_uri": "https://localhost:8080/",
          "height": 404
        }
      },
      "source": [
        "hypothesis = tf.nn.softmax(logits)\n",
        "\n",
        "cost = -tf.reduce_mean(y*tf.log(hypothesis))\n",
        "update = tf.train.GradientDescentOptimizer(0.1).minimize(cost)\n",
        "\n",
        "predicted = tf.argmax(hypothesis, 1)\n",
        "\n",
        "accuracy = tf.reduce_mean(tf.cast(tf.equal(predicted, tf.argmax(y, 1)), tf.float32))\n",
        "\n",
        "sess.run(tf.global_variables_initializer())\n",
        "\n",
        "for i in range(6001) :    \n",
        "    sess.run(update,feed_dict={x: x_train, y: y_train})\n",
        "    \n",
        "    if i % 300 == 0 :\n",
        "        a, c = sess.run([accuracy, cost], feed_dict={ x:x_test, y: y_test})\n",
        "        print(i, \"test : \",  a, c)    \n",
        "a = sess.run(accuracy, feed_dict={ x:x_train, y: y_train})     \n",
        "print(a)"
      ],
      "execution_count": 0,
      "outputs": [
        {
          "output_type": "stream",
          "text": [
            "0 test :  0.20833333 0.4078758\n",
            "300 test :  0.625 0.34005976\n",
            "600 test :  0.75 0.28304577\n",
            "900 test :  0.75 0.24188171\n",
            "1200 test :  0.7916667 0.21536918\n",
            "1500 test :  0.7916667 0.19658086\n",
            "1800 test :  0.7916667 0.18229312\n",
            "2100 test :  0.7916667 0.17081366\n",
            "2400 test :  0.7916667 0.16152686\n",
            "2700 test :  0.8333333 0.15408331\n",
            "3000 test :  0.8333333 0.17291671\n",
            "3300 test :  0.8333333 0.1648448\n",
            "3600 test :  0.8333333 0.15944308\n",
            "3900 test :  0.8333333 0.15379673\n",
            "4200 test :  0.875 0.14809376\n",
            "4500 test :  0.8333333 0.14243777\n",
            "4800 test :  0.8333333 0.13698655\n",
            "5100 test :  0.8333333 0.13165206\n",
            "5400 test :  0.8333333 0.12743077\n",
            "5700 test :  0.8333333 0.12646857\n",
            "6000 test :  0.8333333 0.12683037\n",
            "0.96875\n"
          ],
          "name": "stdout"
        }
      ]
    },
    {
      "cell_type": "code",
      "metadata": {
        "id": "ocDCPih-XWqz",
        "colab_type": "code",
        "colab": {}
      },
      "source": [
        "#컨볼루션층, 풀링층, 은닉층을 여러 개 사용하여 네트워크를 확장.\n",
        "#컨볼루션 레이어 함수는 연속적으로 사용해도 문제가 없도록 함수를 정의\n",
        "#but neural network가 문제가 될 수 있음.\n",
        "#은닉층을 추가할 수 있는 함수를 정의.\n",
        "\n",
        "#컨볼루션 계층에서 신경망 계층을 추가할 때는 1함수를 사용 이후 은닉층을 추가할 때는 2함수를 사용.\n",
        "#마지막 출력층에서는 output_later함수를 사용.\n",
        "#출력으로 활성화 함수 sigmoid를 사용.\n",
        "def neuralnetworkLayer2(hidden, nhidden) :  #from 1d  to 1d\n",
        "    \n",
        "    size = hidden.shape.as_list()        \n",
        "    prehidden = size[1]\n",
        "    \n",
        "    w_fc = tf.Variable(tf.random_normal([prehidden, nhidden], stddev=0.1))\n",
        "    b_fc = tf.Variable(tf.constant(0.1, shape=[nhidden]))\n",
        "    h_fc = tf.nn.sigmoid(tf.matmul(hidden, w_fc) + b_fc)\n",
        "    return  h_fc    "
      ],
      "execution_count": 0,
      "outputs": []
    },
    {
      "cell_type": "code",
      "metadata": {
        "id": "B6rqoO0OYDMf",
        "colab_type": "code",
        "outputId": "215b4909-edbe-44cc-cdcc-74e708ff22ff",
        "colab": {
          "base_uri": "https://localhost:8080/",
          "height": 122
        }
      },
      "source": [
        "#컨볼루션2, 풀링2, 은닉2, 출력 1로 구성\n",
        "\n",
        "pool = convolutionLayer(x_image, 32,3 ) #(3*3 크기의 32개 필터)\n",
        "pool2 = convolutionLayer(pool, 64,3 ) #3*3크기의 64개 필터 사용.\n",
        "hidden  = neuralnetworkLayer(pool2, 300)\n",
        "hidden2  = neuralnetworkLayer2(hidden, 100)\n",
        "logits = outputLayer(hidden2, 3)\n",
        "\n",
        "\n",
        "#입력 데이터는 ?로 나타남.\n",
        "print(x_image.shape)\n",
        "print(pool.shape)\n",
        "print(pool2.shape) #5*5를 맥스 풀링할 때 패딩하기 때문에 6*6으로 변환 그 후 3*3으로 변환됨.\n",
        "print(hidden.shape)\n",
        "print(hidden2.shape)\n",
        "print(logits.shape)"
      ],
      "execution_count": 0,
      "outputs": [
        {
          "output_type": "stream",
          "text": [
            "(?, 10, 10, 1)\n",
            "(?, 5, 5, 32)\n",
            "(?, 3, 3, 64)\n",
            "(?, 300)\n",
            "(?, 100)\n",
            "(?, 3)\n"
          ],
          "name": "stdout"
        }
      ]
    },
    {
      "cell_type": "code",
      "metadata": {
        "id": "HFFrv_kpYZgQ",
        "colab_type": "code",
        "outputId": "5f5a8f4a-e47c-4a9b-9d68-5fbc2f811011",
        "colab": {
          "base_uri": "https://localhost:8080/",
          "height": 228
        }
      },
      "source": [
        "hypothesis = tf.nn.softmax(logits)\n",
        "\n",
        "cost = -tf.reduce_mean(y*tf.log(hypothesis))\n",
        "update = tf.train.GradientDescentOptimizer(0.1).minimize(cost)\n",
        "\n",
        "predicted = tf.argmax(hypothesis, 1)\n",
        "\n",
        "accuracy = tf.reduce_mean(tf.cast(tf.equal(predicted, tf.argmax(y, 1)), tf.float32))\n",
        "\n",
        "sess.run(tf.global_variables_initializer())\n",
        "\n",
        "for i in range(3001) :    \n",
        "    sess.run(update,feed_dict={x: x_train, y: y_train})\n",
        "    \n",
        "    if i % 300 == 0 :\n",
        "        a, c = sess.run([accuracy, cost], feed_dict={ x:x_test, y: y_test})\n",
        "        print(i, \"test : \",  a, c)    \n",
        "a = sess.run(accuracy, feed_dict={ x:x_train, y: y_train})     \n",
        "print(a)\n",
        "\n",
        "#네트워크가 매우 커져서 학습속도가 많이 느려짐."
      ],
      "execution_count": 0,
      "outputs": [
        {
          "output_type": "stream",
          "text": [
            "0 test :  0.25 0.37519303\n",
            "300 test :  0.25 0.37013066\n",
            "600 test :  0.25 0.36999008\n",
            "900 test :  0.25 0.36984602\n",
            "1200 test :  0.25 0.36968744\n",
            "1500 test :  0.25 0.36950442\n",
            "1800 test :  0.25 0.3692859\n",
            "2100 test :  0.25 0.36901262\n",
            "2400 test :  0.25 0.3686558\n",
            "2700 test :  0.25 0.36817288\n",
            "3000 test :  0.25 0.3674891\n",
            "0.35416666\n"
          ],
          "name": "stdout"
        }
      ]
    },
    {
      "cell_type": "code",
      "metadata": {
        "id": "CnZLh9dlYpKu",
        "colab_type": "code",
        "outputId": "5d9bc843-d35c-47cd-e0a2-618147d328c1",
        "colab": {
          "base_uri": "https://localhost:8080/",
          "height": 70
        }
      },
      "source": [
        "#학습 모델 결과를 분석.\n",
        "h, p = sess.run([hypothesis, predicted], feed_dict={ x:x_test, y: y_test})   \n",
        "\n",
        "#네모 = s, 세모 = t, 원 = c\n",
        "labels = ['S', 'T', 'C']\n",
        "#argmax 함수를 이용해 one_hot 된 것을 다시 레이블로 바꿈.\n",
        "y_data2 = np.argmax(y_test, axis=1)\n",
        "\n",
        "print(h.shape)\n",
        "print(p.shape)\n",
        "print(y_data2.shape)"
      ],
      "execution_count": 0,
      "outputs": [
        {
          "output_type": "stream",
          "text": [
            "(24, 3)\n",
            "(24,)\n",
            "(24,)\n"
          ],
          "name": "stdout"
        }
      ]
    },
    {
      "cell_type": "code",
      "metadata": {
        "id": "ch-8m8glZCrA",
        "colab_type": "code",
        "outputId": "08cb2112-0718-4e44-9ade-2627fcb82d0d",
        "colab": {
          "base_uri": "https://localhost:8080/",
          "height": 1000
        }
      },
      "source": [
        "plt.figure(figsize=(20, 25))\n",
        "\n",
        "for i in range(24) :        \n",
        "  plt.subplot(6, 4*2, i*2+1)\n",
        "  plt.imshow(x_test[i,:].reshape(im,im), cmap='gray')    \n",
        "  c =  \"blue\" if  p[i] == y_data2[i]   else \"red\"    \n",
        "  plt.subplot(6, 4*2, i*2+2)\n",
        "  plt.bar(labels, h[i], color=c) #x축 레이블 y축 = 확률값, 칼라값\n",
        "  #정답 레이블, 예측 레이블, 최대 확률값\n",
        "  plt.xlabel(\"{}-> {} {:2.0f}%\".format(labels[int(y_data2[  i ])], labels[p[  i ]],        100*np.max(h[i], axis=0)),  color = c )   \n",
        "    #예측이 맞으면 파란색 틀리면 빨간색."
      ],
      "execution_count": 0,
      "outputs": [
        {
          "output_type": "display_data",
          "data": {
            "image/png": "[encoded data removed]",
            "text/plain": [
              "<Figure size 1440x1800 with 48 Axes>"
            ]
          },
          "metadata": {
            "tags": []
          }
        }
      ]
    },
    {
      "cell_type": "markdown",
      "metadata": {
        "id": "MMTHRsF9PDLj",
        "colab_type": "text"
      },
      "source": [
        ""
      ]
    }
  ]
}