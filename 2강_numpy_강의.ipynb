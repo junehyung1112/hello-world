{
  "nbformat": 4,
  "nbformat_minor": 0,
  "metadata": {
    "colab": {
      "name": "2강 numpy 강의",
      "provenance": [],
      "collapsed_sections": [],
      "authorship_tag": "ABX9TyNb2Dj6BIxsII8ZArVdAkJp",
      "include_colab_link": true
    },
    "kernelspec": {
      "name": "python3",
      "display_name": "Python 3"
    }
  },
  "cells": [
    {
      "cell_type": "markdown",
      "metadata": {
        "id": "view-in-github",
        "colab_type": "text"
      },
      "source": [
        "<a href=\"https://colab.research.google.com/github/junehyung1112/hello-world/blob/master/2%EA%B0%95_numpy_%EA%B0%95%EC%9D%98.ipynb\" target=\"_parent\"><img src=\"https://colab.research.google.com/assets/colab-badge.svg\" alt=\"Open In Colab\"/></a>"
      ]
    },
    {
      "cell_type": "code",
      "metadata": {
        "id": "OCGuuk21UBNq",
        "colab_type": "code",
        "outputId": "7d77948c-70e6-4ddd-dc09-ba368be8d3f8",
        "colab": {
          "base_uri": "https://localhost:8080/",
          "height": 70
        }
      },
      "source": [
        "#파이썬의 numpy 모듈은 배열간 고속 연산을 가능하게 함.\n",
        "#python에서 numpy 모듈이 필요한 이유: python은 스크립트언어라 반복문으로 배열 계산시 시간이 많이 필요\n",
        "#넘파이 모듈을 사용하면 상황에 따라 다르지만 행렬곱의 경우 안쓰는것보다 6배 더 빠름.\n",
        "#python 수치 연산의 문제점:\n",
        "#리스트를 이용해 행렬 및 벡터를 생성하고 연산을 수행\n",
        "#하지만 다양한 행렬과 벡터에 대한 직접 연산을 지원하지 않음\n",
        "#다차원 데이터를 효과적으로 연산할 수 없고 처리 속도가 매우 느림.\n",
        "#이를 해결하기 위해 넘파이가 개발\n",
        "#넘파이는 다차원 고속 배열지원하고 다차원 배열에 대해 직접 연산을 지원함.\n",
        "#다양한 선형 대수, 행렬 변환 함수를 지원함.\n",
        "import numpy as np\n",
        "\n",
        "v = np.array([[1,2],[3,4],[5,6]]) # 3*2 행렬, 3개의 리스트로 구성되어 있고 각각의 리스트가 2개의 원소 지님\n",
        "m = np.array([[1,2,3]]) #행백터는 벡터로 보기보다는 행렬로 보는게 편함.\n",
        "m = np.array([[1],[2],[3]]) #3행 1열 -> 열벡터\n",
        "m = np.array([[1,2,3],[4,5,6]]).reshape(3,2) #reshape를 이용해서 2*3 행렬을 3*2행렬로 변환 가능. 이 때 원소 개수가 일치해야함.\n",
        "m = np.array([[1,2,3],[4,5,6]]).T #transpose 함수 = 행렬에 대한 전체 연산을 위해 제공.\n",
        "#numpy는 인덱싱과 슬라이싱을 통해 데이터의 특정 위치의 원소에 접근할 수 있음.\n",
        "a = np.array([[1,2,3], [4,5,6], [7,8,9]])\n",
        "a[1,1] #,를 이용한 인덱싱으로 특정 위치 값 읽을 수 있음. \n",
        "a[0]  # 행렬의 첫번째 행을 의미.\n",
        "a[:, 1] #행렬의 두번째 열을 의미.\n",
        "a[1, 1:3] # 두번째 행의 2열~4열을 의미.\n",
        "\n",
        "#2개 벡터나 행렬에 대해 손쉽게 사칙연산 가능\n",
        "a = np.array([1,3,5,7,9])\n",
        "b = np.array([3,5,6,7,9])\n",
        "c = a + b # + 연산자를 사용해서 두 벡터의 합 계산 가능.\n",
        "#연산 시 두 행렬의 데이터 타입은 큰 쪽으로 맞춰지고 두 행렬의 크기가 다른 경우 오류가 발생.\n",
        "#matmul 함수를 이용해서 두 매트릭스간 곱셈이 가능\n",
        "x = np.array([[1,2], [4,5], [6,7]]) #3*2\n",
        "y = np.array([[1,2],[4,5]]) #2*2\n",
        "print(np.matmul(x,y)) #3*2"
      ],
      "execution_count": 0,
      "outputs": [
        {
          "output_type": "stream",
          "text": [
            "[[ 9 12]\n",
            " [24 33]\n",
            " [34 47]]\n"
          ],
          "name": "stdout"
        }
      ]
    },
    {
      "cell_type": "code",
      "metadata": {
        "id": "ee9YbKRhah9l",
        "colab_type": "code",
        "outputId": "7fbea076-f187-4707-d419-1c6a2d9707af",
        "colab": {
          "base_uri": "https://localhost:8080/",
          "height": 369
        }
      },
      "source": [
        "\n",
        "import numpy as np\n",
        "import numpy.linalg as lin #역행렬 계산을 위해\n",
        "import time\n",
        "\n",
        "#numpy 뱁열 객체를 생성\n",
        "a = np.array(2.0)\n",
        "print(a)\n",
        "print(type(a)) #numpy 객체\n",
        "#()를 사용해서 다차원 배열 shape의 크기를 알 수 있음.\n",
        "\n",
        "print(a.shape) #실수 한개로 이루어져 있어 0차원\n",
        "\n",
        "b = np.array([2.0])\n",
        "print(b) #대괄호로 출력되는 건 데이터가 벡터임을 의미.\n",
        "print(b.shape)\n",
        "\n",
        "c = np.array([2,3,4])\n",
        "print(c)\n",
        "print(c.shape) #크기가 3인 백터\n",
        "\n",
        "m = np.array([[1,2],[3,4],[5,6]])\n",
        "print(m)\n",
        "print(m.shape)\n",
        "print(\"행 :\", m.shape[0]) #행의 크기를 의미.\n",
        "print(\"열 :\", m.shape[1]) #열의 크기를 의미.\n",
        "\n",
        "m = np.array([[1,2,3]]) #한개의 행으로만 이루어짐 -> 행백테\n",
        "print(m) \n",
        "\n",
        "m = np.array([[1],[2],[3]]) #한개의 열로만 이루어짐 -> 열벡터\n",
        "print(m)\n",
        "print(m.shape) #(행의 크기, 열의 크기)\n",
        "\n",
        "#numpy array는 모든 원소의 타입이 동일하다고 가정함.\n",
        "#타입이 int32면 모두 정수\n",
        "#정수와 실수가 섞여있으면 float64로 정의.\n",
        "#numpy에서는 list객체 타입을 통해 자동으로 형을 결정.\n",
        "#고속 수치 계산을 위해 단일 데이터 타입을 사용함.\n",
        "\n",
        "#주의할 사항 파이썬은 2차원 배열 만들 때 리스트를 이용 -> 각 행의 개수가 다를 수 있음\n",
        "#but numpy는 격자 형태의 array만 지원.\n",
        "a = [[1,2 ], [3,4,5]]\n",
        "print(a) #각 행마다 원소개수가 다른 행렬이 만들어짐.\n",
        "b = np.array([[1,2], [3,4,5]])\n",
        "print(b) #넘파이는 격자 어레이만 마들어야하기 때문에 두개의 리스트를 원소로 갖는 객체가 만들어짐.\n"
      ],
      "execution_count": 0,
      "outputs": [
        {
          "output_type": "stream",
          "text": [
            "2.0\n",
            "<class 'numpy.ndarray'>\n",
            "()\n",
            "[2.]\n",
            "(1,)\n",
            "[2 3 4]\n",
            "(3,)\n",
            "[[1 2]\n",
            " [3 4]\n",
            " [5 6]]\n",
            "(3, 2)\n",
            "행 : 3\n",
            "열 : 2\n",
            "[[1 2 3]]\n",
            "[[1]\n",
            " [2]\n",
            " [3]]\n",
            "(3, 1)\n",
            "[[1, 2], [3, 4, 5]]\n",
            "[list([1, 2]) list([3, 4, 5])]\n"
          ],
          "name": "stdout"
        }
      ]
    },
    {
      "cell_type": "code",
      "metadata": {
        "id": "r4h8IiQcdSXO",
        "colab_type": "code",
        "outputId": "a59e6da3-f1f0-49d6-fe51-7827cd76251e",
        "colab": {
          "base_uri": "https://localhost:8080/",
          "height": 193
        }
      },
      "source": [
        "a = np.array([[1,2,3], [4,5,6], [7,8,9]])\n",
        "print(a[0,0]) # 1행 1열\n",
        "print(a[0]) # 1행.\n",
        "print(a[:,1]) #두번째 열의 값\n",
        "print(a[1, 1:3]) #두번째 행 2~4열까지.\n",
        "\n",
        "i = [0,2]\n",
        "b = a[i, :] #b는 0행과 2행의 모든 열 정보 출력\n",
        "print(b)\n",
        "\n",
        "c = np.array([1,2,3,4,5,6,7])\n",
        "print(c[0::2]) #0부터 2씩 증가시켜서 출력\n",
        "\n",
        "print(a[1:-1]) #두번째 행부터 마지막행(여기선 3행) 전까지\n",
        "\n",
        "print(a[1:]) #1행부터 마지막행까지\n",
        "\n",
        "a[1, 2] = 7  #원소 변경 가능\n",
        "a[:, 0] = [0,9,1] #행 전체 변경 가능\n"
      ],
      "execution_count": 0,
      "outputs": [
        {
          "output_type": "stream",
          "text": [
            "1\n",
            "[1 2 3]\n",
            "[2 5 8]\n",
            "[5 6]\n",
            "[[1 2 3]\n",
            " [7 8 9]]\n",
            "[1 3 5 7]\n",
            "[[4 5 6]]\n",
            "[[4 5 6]\n",
            " [7 8 9]]\n"
          ],
          "name": "stdout"
        }
      ]
    },
    {
      "cell_type": "code",
      "metadata": {
        "id": "OWJ-nDUWda7_",
        "colab_type": "code",
        "outputId": "d05ad87e-eb4b-4a3d-83d2-0dd27723a706",
        "colab": {
          "base_uri": "https://localhost:8080/",
          "height": 404
        }
      },
      "source": [
        "#파일로 저장 하거나 읽어 오는게 가능\n",
        "a = np.array([[1,2,3], [4,5,6], [7,8,9]])\n",
        "np.save(\"a.npy\", a)\n",
        "b = np.load(\"a.npy\")\n",
        "print(b)\n",
        "\n",
        "#csv 파일은 일반 에디터로 손쉽게 수정 삭제 가능\n",
        "# numpy는 load text로 손쉽게 csv 파일 사용가능.\n",
        "data = np.loadtxt(\"iris.csv\", delimiter=\",\", dtype = np.float32)\n"
      ],
      "execution_count": 0,
      "outputs": [
        {
          "output_type": "stream",
          "text": [
            "[[1 2 3]\n",
            " [4 5 6]\n",
            " [7 8 9]]\n"
          ],
          "name": "stdout"
        },
        {
          "output_type": "error",
          "ename": "OSError",
          "evalue": "ignored",
          "traceback": [
            "\u001b[0;31m---------------------------------------------------------------------------\u001b[0m",
            "\u001b[0;31mOSError\u001b[0m                                   Traceback (most recent call last)",
            "\u001b[0;32m<ipython-input-27-451cf2bf2418>\u001b[0m in \u001b[0;36m<module>\u001b[0;34m()\u001b[0m\n\u001b[1;32m      6\u001b[0m \u001b[0;31m#csv 파일은 일반 에디터로 손쉽게 수정 삭제 가능\u001b[0m\u001b[0;34m\u001b[0m\u001b[0;34m\u001b[0m\u001b[0;34m\u001b[0m\u001b[0m\n\u001b[1;32m      7\u001b[0m \u001b[0;31m# numpy는 load text로 손쉽게 csv 파일 사용가능.\u001b[0m\u001b[0;34m\u001b[0m\u001b[0;34m\u001b[0m\u001b[0;34m\u001b[0m\u001b[0m\n\u001b[0;32m----> 8\u001b[0;31m \u001b[0mdata\u001b[0m \u001b[0;34m=\u001b[0m \u001b[0mnp\u001b[0m\u001b[0;34m.\u001b[0m\u001b[0mloadtxt\u001b[0m\u001b[0;34m(\u001b[0m\u001b[0;34m\"iris.csv\"\u001b[0m\u001b[0;34m,\u001b[0m \u001b[0mdelimiter\u001b[0m\u001b[0;34m=\u001b[0m\u001b[0;34m\",\"\u001b[0m\u001b[0;34m,\u001b[0m \u001b[0mdtype\u001b[0m \u001b[0;34m=\u001b[0m \u001b[0mnp\u001b[0m\u001b[0;34m.\u001b[0m\u001b[0mfloat32\u001b[0m\u001b[0;34m)\u001b[0m\u001b[0;34m\u001b[0m\u001b[0;34m\u001b[0m\u001b[0m\n\u001b[0m",
            "\u001b[0;32m/usr/local/lib/python3.6/dist-packages/numpy/lib/npyio.py\u001b[0m in \u001b[0;36mloadtxt\u001b[0;34m(fname, dtype, comments, delimiter, converters, skiprows, usecols, unpack, ndmin, encoding, max_rows)\u001b[0m\n\u001b[1;32m    966\u001b[0m             \u001b[0mfname\u001b[0m \u001b[0;34m=\u001b[0m \u001b[0mos_fspath\u001b[0m\u001b[0;34m(\u001b[0m\u001b[0mfname\u001b[0m\u001b[0;34m)\u001b[0m\u001b[0;34m\u001b[0m\u001b[0;34m\u001b[0m\u001b[0m\n\u001b[1;32m    967\u001b[0m         \u001b[0;32mif\u001b[0m \u001b[0m_is_string_like\u001b[0m\u001b[0;34m(\u001b[0m\u001b[0mfname\u001b[0m\u001b[0;34m)\u001b[0m\u001b[0;34m:\u001b[0m\u001b[0;34m\u001b[0m\u001b[0;34m\u001b[0m\u001b[0m\n\u001b[0;32m--> 968\u001b[0;31m             \u001b[0mfh\u001b[0m \u001b[0;34m=\u001b[0m \u001b[0mnp\u001b[0m\u001b[0;34m.\u001b[0m\u001b[0mlib\u001b[0m\u001b[0;34m.\u001b[0m\u001b[0m_datasource\u001b[0m\u001b[0;34m.\u001b[0m\u001b[0mopen\u001b[0m\u001b[0;34m(\u001b[0m\u001b[0mfname\u001b[0m\u001b[0;34m,\u001b[0m \u001b[0;34m'rt'\u001b[0m\u001b[0;34m,\u001b[0m \u001b[0mencoding\u001b[0m\u001b[0;34m=\u001b[0m\u001b[0mencoding\u001b[0m\u001b[0;34m)\u001b[0m\u001b[0;34m\u001b[0m\u001b[0;34m\u001b[0m\u001b[0m\n\u001b[0m\u001b[1;32m    969\u001b[0m             \u001b[0mfencoding\u001b[0m \u001b[0;34m=\u001b[0m \u001b[0mgetattr\u001b[0m\u001b[0;34m(\u001b[0m\u001b[0mfh\u001b[0m\u001b[0;34m,\u001b[0m \u001b[0;34m'encoding'\u001b[0m\u001b[0;34m,\u001b[0m \u001b[0;34m'latin1'\u001b[0m\u001b[0;34m)\u001b[0m\u001b[0;34m\u001b[0m\u001b[0;34m\u001b[0m\u001b[0m\n\u001b[1;32m    970\u001b[0m             \u001b[0mfh\u001b[0m \u001b[0;34m=\u001b[0m \u001b[0miter\u001b[0m\u001b[0;34m(\u001b[0m\u001b[0mfh\u001b[0m\u001b[0;34m)\u001b[0m\u001b[0;34m\u001b[0m\u001b[0;34m\u001b[0m\u001b[0m\n",
            "\u001b[0;32m/usr/local/lib/python3.6/dist-packages/numpy/lib/_datasource.py\u001b[0m in \u001b[0;36mopen\u001b[0;34m(path, mode, destpath, encoding, newline)\u001b[0m\n\u001b[1;32m    267\u001b[0m \u001b[0;34m\u001b[0m\u001b[0m\n\u001b[1;32m    268\u001b[0m     \u001b[0mds\u001b[0m \u001b[0;34m=\u001b[0m \u001b[0mDataSource\u001b[0m\u001b[0;34m(\u001b[0m\u001b[0mdestpath\u001b[0m\u001b[0;34m)\u001b[0m\u001b[0;34m\u001b[0m\u001b[0;34m\u001b[0m\u001b[0m\n\u001b[0;32m--> 269\u001b[0;31m     \u001b[0;32mreturn\u001b[0m \u001b[0mds\u001b[0m\u001b[0;34m.\u001b[0m\u001b[0mopen\u001b[0m\u001b[0;34m(\u001b[0m\u001b[0mpath\u001b[0m\u001b[0;34m,\u001b[0m \u001b[0mmode\u001b[0m\u001b[0;34m,\u001b[0m \u001b[0mencoding\u001b[0m\u001b[0;34m=\u001b[0m\u001b[0mencoding\u001b[0m\u001b[0;34m,\u001b[0m \u001b[0mnewline\u001b[0m\u001b[0;34m=\u001b[0m\u001b[0mnewline\u001b[0m\u001b[0;34m)\u001b[0m\u001b[0;34m\u001b[0m\u001b[0;34m\u001b[0m\u001b[0m\n\u001b[0m\u001b[1;32m    270\u001b[0m \u001b[0;34m\u001b[0m\u001b[0m\n\u001b[1;32m    271\u001b[0m \u001b[0;34m\u001b[0m\u001b[0m\n",
            "\u001b[0;32m/usr/local/lib/python3.6/dist-packages/numpy/lib/_datasource.py\u001b[0m in \u001b[0;36mopen\u001b[0;34m(self, path, mode, encoding, newline)\u001b[0m\n\u001b[1;32m    621\u001b[0m                                       encoding=encoding, newline=newline)\n\u001b[1;32m    622\u001b[0m         \u001b[0;32melse\u001b[0m\u001b[0;34m:\u001b[0m\u001b[0;34m\u001b[0m\u001b[0;34m\u001b[0m\u001b[0m\n\u001b[0;32m--> 623\u001b[0;31m             \u001b[0;32mraise\u001b[0m \u001b[0mIOError\u001b[0m\u001b[0;34m(\u001b[0m\u001b[0;34m\"%s not found.\"\u001b[0m \u001b[0;34m%\u001b[0m \u001b[0mpath\u001b[0m\u001b[0;34m)\u001b[0m\u001b[0;34m\u001b[0m\u001b[0;34m\u001b[0m\u001b[0m\n\u001b[0m\u001b[1;32m    624\u001b[0m \u001b[0;34m\u001b[0m\u001b[0m\n\u001b[1;32m    625\u001b[0m \u001b[0;34m\u001b[0m\u001b[0m\n",
            "\u001b[0;31mOSError\u001b[0m: iris.csv not found."
          ]
        }
      ]
    },
    {
      "cell_type": "code",
      "metadata": {
        "id": "KmRkTSLbdaQW",
        "colab_type": "code",
        "colab": {}
      },
      "source": [
        ""
      ],
      "execution_count": 0,
      "outputs": []
    }
  ]
}