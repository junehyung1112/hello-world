{
  "nbformat": 4,
  "nbformat_minor": 0,
  "metadata": {
    "colab": {
      "name": "3강 텐서플로우 기초 활용",
      "provenance": [],
      "collapsed_sections": [],
      "authorship_tag": "ABX9TyMrXM4G2Z7ufWWCXTRtd/do",
      "include_colab_link": true
    },
    "kernelspec": {
      "name": "python3",
      "display_name": "Python 3"
    }
  },
  "cells": [
    {
      "cell_type": "markdown",
      "metadata": {
        "id": "view-in-github",
        "colab_type": "text"
      },
      "source": [
        "<a href=\"https://colab.research.google.com/github/junehyung1112/hello-world/blob/master/3%EA%B0%95_%ED%85%90%EC%84%9C%ED%94%8C%EB%A1%9C%EC%9A%B0_%EA%B8%B0%EC%B4%88_%ED%99%9C%EC%9A%A9.ipynb\" target=\"_parent\"><img src=\"https://colab.research.google.com/assets/colab-badge.svg\" alt=\"Open In Colab\"/></a>"
      ]
    },
    {
      "cell_type": "code",
      "metadata": {
        "id": "ZdIyVUxYB2Sp",
        "colab_type": "code",
        "outputId": "ba576389-8317-4571-e854-2ca849eff820",
        "colab": {
          "base_uri": "https://localhost:8080/",
          "height": 281
        }
      },
      "source": [
        "#텐서 플로우는 딥러닝 알고리즘 구현에 필요한 계산 구조와 목표 함수만 정의하면 자동으로 미분 계산\n",
        "#코드 수정 없이 gpu를 사용해 빠르게 코드 실행 가능.\n",
        "#텐서플로우는 기계학습 라이브러리.\n",
        "#data flow 그래프를 이용해서 수치계산을 할 수 있음.\n",
        "#텐서는 형태를 가진 다차원 배열을 의미.\n",
        "#계산 과정을 그래프로 표현. 데이터 노드와 연산 노드로 구성.\n",
        "#데이터 노드는 연산할 데이터를 가지고 있는 텐서\n",
        "#연산 노드는 수학적인 연산을 의미.\n",
        "#계산 그래프를 정의한 후, session에 올려야지 실행이 가능.\n",
        "#실행 후 결과를 python 배열로 변환해서(list, numpy) 사용.\n",
        "#텐서플로우 동작 과정 = 그래프를 빌드 -> 데이터를 입력하고 그래프를 실행 -> 그래프 내부 변수들을 업데이트하고 출력값 리턴\n",
        "\n",
        "import tensorflow as tf\n",
        "\n",
        "x = tf.constant(1) #constant를 이용해서 텐서를 만들어 상수를 대임.\n",
        "y = tf.constant(2)\n",
        "z = tf.constant(3)\n",
        "a = x*y + z #XYZ는 데이터 노드 a는 연산 노드\n",
        "\n",
        "sess = tf.Session()\n",
        "b = sess.run(a) #연산 노드를 실행.\n",
        "print(b)\n",
        "\n",
        "#텐서플로우는 벡터, 행렬 및 다차원 배열을 생성 가능.\n",
        "a = tf.constant([[1,2], [3,4], [5,6]]) #3행 2열의 텐서를 정의\n",
        "print(a.dtype) #하나의 텐서에서 모든 자료는 동일한 타입을 사용.\n",
        "print(a.shape)\n",
        "print(sess.run(tf.rank(a))) #텐서의 차원은 2(두개의 텐서를 지니고 있기 때문)\n",
        "\n",
        "#reshape함수를 이용해서 행렬 구조 변환 가능\n",
        "a = tf.constant([[1,2],[3,4],[5,6],[7,8],[9,10],[11,12]])\n",
        "b = tf.reshape(a,[3,4]) #3*4 행렬로 변환 원소의 개수는 반드시 같아야 함.\n",
        "c = tf.transpose(b) #행렬 연산을 수행할 때 사용 3*4 -> 4*3\n",
        "print(sess.run(b))\n",
        "print(sess.run(c))\n",
        "\n",
        "#두 벡터나 행렬의 사칙연산을 손쉽게 수행 가능.\n",
        "a = tf.constant([1,2,3,4,5])\n",
        "b = tf.constant([-1,-1,-1,-1,-1])\n",
        "c = a*b #텐서 a와 b의 원소를 각각 곱한 값.\n",
        "print(sess.run(c))\n",
        "\n",
        "c = tf.equal(a,b) #관계 비교도 가능\n",
        "print(sess.run(c))\n",
        "#텐서플로우를 이용해서 크기 비교도 가능.\n",
        "\n",
        "#텐서플로우는 3가지의 데이터 타입을 제공.\n",
        "#tf. constant(value, dtype, shape) = 변하지 않는 상수 저장을 위한 고정 크기 메모리.\n",
        "#세션 실행 시 자동으로 초기화 됨.\n",
        "a = tf.constant([10.0, 20]) #데이터 타입이 큰 실수 타입으로 정의됨.\n",
        "b = tf.constant([10,20,30], dtype = tf.float32)\n",
        "\n",
        "#tf.placeholder(dtype, shape) = 학습 데이터를 저장하기 위한 가변 크기 메모리\n",
        "#자료 구조만 정해주고 나중에 data를 공급 받음\n",
        "#반복적으로 feeding 가능\n",
        "x = tf.placeholder(dtype = tf.float32)\n",
        "input_data = [1,2,3,4,5] #x와 input data의 데이터 타입은 동일해야함. 여기선 1차원 벡터\n",
        "sess.run(x,feed_dict={x:input_data})\n",
        "\n",
        "#tf.Variable(value, dtype,shape)) =학습 가중치를 저장하기 위한 고정 크기 메모리.\n",
        "#반복적으로 읽고 쓰기 가능.\n",
        "#반드시 초기화 되어야 함.\n",
        "input_data = [1,2,3,4,5]\n",
        "w = tf.Variable(input_data, dtype = tf.float32)\n",
        "init = tf.global_variables_initializer() #초기화되지 않으면 오류가 발생함.\n",
        "sess.run(init)\n",
        "\n",
        "input_data = [1,2,3,4,5]\n",
        "x = tf.placeholder(dtype=tf.float32)\n",
        "w = tf.Variable([2.0])\n",
        "b = tf.constant([1.4])\n",
        "y = w*x + b\n",
        "init = tf.global_variables_initializer()\n",
        "\n",
        "sess = tf.Session()\n",
        "sess.run(init)\n",
        "\n",
        "#placeholder는 상황에 맞게 데이터를 넣는 것이 가능\n",
        "out1 = sess.run(y, feed_dict = {x:[1,2,3]}) #x와 파라미터로 전달되는 데이터 타입 고려\n",
        "out2 = sess.run(y, feed_dict={x:[-1.0,-2.0]})  #feed_dict를 이용해서 값 전달 가능.\n",
        "\n",
        "print(out1)\n",
        "print(out2)\n",
        "\n"
      ],
      "execution_count": 0,
      "outputs": [
        {
          "output_type": "stream",
          "text": [
            "5\n",
            "<dtype: 'int32'>\n",
            "(3, 2)\n",
            "2\n",
            "[[ 1  2  3  4]\n",
            " [ 5  6  7  8]\n",
            " [ 9 10 11 12]]\n",
            "[[ 1  5  9]\n",
            " [ 2  6 10]\n",
            " [ 3  7 11]\n",
            " [ 4  8 12]]\n",
            "[-1 -2 -3 -4 -5]\n",
            "[False False False False False]\n",
            "[3.4 5.4 7.4]\n",
            "[-0.6 -2.6]\n"
          ],
          "name": "stdout"
        }
      ]
    }
  ]
}