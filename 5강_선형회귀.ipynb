{
  "nbformat": 4,
  "nbformat_minor": 0,
  "metadata": {
    "colab": {
      "name": "5강 선형회귀",
      "provenance": [],
      "collapsed_sections": [],
      "authorship_tag": "ABX9TyMU/N790VaA60fX9AzxCeCS",
      "include_colab_link": true
    },
    "kernelspec": {
      "name": "python3",
      "display_name": "Python 3"
    }
  },
  "cells": [
    {
      "cell_type": "markdown",
      "metadata": {
        "id": "view-in-github",
        "colab_type": "text"
      },
      "source": [
        "<a href=\"https://colab.research.google.com/github/junehyung1112/hello-world/blob/master/5%EA%B0%95_%EC%84%A0%ED%98%95%ED%9A%8C%EA%B7%80.ipynb\" target=\"_parent\"><img src=\"https://colab.research.google.com/assets/colab-badge.svg\" alt=\"Open In Colab\"/></a>"
      ]
    },
    {
      "cell_type": "code",
      "metadata": {
        "id": "QE_g_RmttHFn",
        "colab_type": "code",
        "colab": {}
      },
      "source": [
        "#선형회귀: 데이터의 경향성을 직선으로 예측 가능.\n",
        "#경사하강법 : 최적화 알고리즘 중 대표적임.\n",
        "#tensorflow를 이용해 선형 회귀를 구현 가능.\n",
        "#인덱싱과 슬라이싱을 통해 데이터의 특정 위치 원소로 접근.\n",
        "\n",
        "import tensorflow as tf\n",
        "import matplotlib.pyplot as plt\n",
        "import numpy as np\n",
        "%matplotlib inline\n",
        "\n",
        "sess = tf.Session()\n",
        "\n",
        "tf.set_random_seed(7777)"
      ],
      "execution_count": 0,
      "outputs": []
    },
    {
      "cell_type": "code",
      "metadata": {
        "id": "AkBmqQX1axgA",
        "colab_type": "code",
        "colab": {}
      },
      "source": [
        "#cost 이해하기\n",
        "x_data = [1.0,2,3,4]\n",
        "y_data = [1.1, 2.2, 3, 4.2]\n",
        "\n",
        "w= tf.placeholder(tf.float32)\n",
        "x= tf.placeholder(tf.float32)\n",
        "y= tf.placeholder(tf.float32)\n",
        "hypothesis = w*x #error = hypothesis - y\n",
        "cost = tf.reduce_mean(tf.square(hypothesis-y))"
      ],
      "execution_count": 0,
      "outputs": []
    },
    {
      "cell_type": "code",
      "metadata": {
        "id": "NuOcqnyIbM3Y",
        "colab_type": "code",
        "outputId": "cf25ae66-2e0e-4193-94f6-99a789066f71",
        "colab": {
          "base_uri": "https://localhost:8080/",
          "height": 52
        }
      },
      "source": [
        "c = sess.run(cost, feed_dict={x:x_data, y:y_data, w:-4})\n",
        "print(cost) #tensor 값 출력\n",
        "print(c) #실제 코스트값 출력 -> w=-4일때 큰 에러가 발생."
      ],
      "execution_count": 0,
      "outputs": [
        {
          "output_type": "stream",
          "text": [
            "Tensor(\"Mean:0\", shape=(), dtype=float32)\n",
            "190.7725\n"
          ],
          "name": "stdout"
        }
      ]
    },
    {
      "cell_type": "code",
      "metadata": {
        "id": "Lo6DKsoCbYhZ",
        "colab_type": "code",
        "outputId": "c77b0a94-aba3-49a4-d22b-e8c7d2f5e4b9",
        "colab": {
          "base_uri": "https://localhost:8080/",
          "height": 87
        }
      },
      "source": [
        "c = sess.run(cost, feed_dict={x:x_data, y:y_data, w:-3})\n",
        "print(c) \n",
        "c = sess.run(cost, feed_dict={x:x_data, y:y_data, w:-2})\n",
        "print(c) \n",
        "c = sess.run(cost, feed_dict={x:x_data, y:y_data, w:-1})\n",
        "print(c) \n",
        "c = sess.run(cost, feed_dict={x:x_data, y:y_data, w:0})\n",
        "print(c)  #cost가 점점 줄어듬. 이처럼 cost 값을 매번 반복적으로 타이핑 할 수 없어서 for문을 이용"
      ],
      "execution_count": 0,
      "outputs": [
        {
          "output_type": "stream",
          "text": [
            "122.622505\n",
            "69.4725\n",
            "31.322498\n",
            "8.1725\n"
          ],
          "name": "stdout"
        }
      ]
    },
    {
      "cell_type": "code",
      "metadata": {
        "id": "eS2Z77ngbol8",
        "colab_type": "code",
        "outputId": "55eaa136-13b2-48eb-a401-5c1e327d3b86",
        "colab": {
          "base_uri": "https://localhost:8080/",
          "height": 210
        }
      },
      "source": [
        "for value in [-4,-3,-2,-1,0,1,2,3,4,5,6]:\n",
        "  c = sess.run(cost, feed_dict={x:x_data, y:y_data, w:value})\n",
        "  print(value, c) #-4일때 가장 크고 점점 값이 줄어들다가 다시 올라감을 알 수 있음. 1일때 최소."
      ],
      "execution_count": 0,
      "outputs": [
        {
          "output_type": "stream",
          "text": [
            "-4 190.7725\n",
            "-3 122.622505\n",
            "-2 69.4725\n",
            "-1 31.322498\n",
            "0 8.1725\n",
            "1 0.022499986\n",
            "2 6.8725004\n",
            "3 28.7225\n",
            "4 65.5725\n",
            "5 117.4225\n",
            "6 184.27249\n"
          ],
          "name": "stdout"
        }
      ]
    },
    {
      "cell_type": "code",
      "metadata": {
        "id": "fbG8yvD5b6LW",
        "colab_type": "code",
        "outputId": "b3cbd7f5-703d-4dc4-e36d-dac6947d0f5d",
        "colab": {
          "base_uri": "https://localhost:8080/",
          "height": 286
        }
      },
      "source": [
        "#그래프로 나타내기.\n",
        "cs = []\n",
        "for v in [-4,-3,-2,-1,0,1,2,3,4,5,6]:\n",
        "  c = sess.run(cost, feed_dict={x:x_data, y:y_data, w:v})\n",
        "  cs.append(c)\n",
        "plt.plot([-4,-3,-2,-1,0,1,2,3,4,5,6], cs)"
      ],
      "execution_count": 0,
      "outputs": [
        {
          "output_type": "execute_result",
          "data": {
            "text/plain": [
              "[<matplotlib.lines.Line2D at 0x7f284eb10c18>]"
            ]
          },
          "metadata": {
            "tags": []
          },
          "execution_count": 12
        },
        {
          "output_type": "display_data",
          "data": {
            "image/png": "[encoded data removed]",
            "text/plain": [
              "<Figure size 432x288 with 1 Axes>"
            ]
          },
          "metadata": {
            "tags": []
          }
        }
      ]
    },
    {
      "cell_type": "code",
      "metadata": {
        "id": "bb56ChascV_A",
        "colab_type": "code",
        "outputId": "f8e4957f-426a-455d-e4e4-a889749fff66",
        "colab": {
          "base_uri": "https://localhost:8080/",
          "height": 318
        }
      },
      "source": [
        "#w값이 정수가 아닐 경우.\n",
        "\n",
        "cs = []\n",
        "fromto = np.linspace(-10, 12, 1000)\n",
        "for v in fromto:\n",
        "  c = sess.run(cost, feed_dict={x:x_data, y:y_data, w:v})\n",
        "  cs.append(c)\n",
        "plt.plot(fromto, cs)\n",
        "\n",
        "print(np.array(cs).min())\n",
        "print(np.array(cs).argmin()) #최소값일 때의 w의 인덱스 값.\n",
        "print(fromto[np.array(cs).argmin()]) #w값\n",
        "\n",
        "#정수만 사용했을 때보다 최솟값이 낮아짐. "
      ],
      "execution_count": 0,
      "outputs": [
        {
          "output_type": "stream",
          "text": [
            "0.009212394\n",
            "501\n",
            "1.0330330330330337\n"
          ],
          "name": "stdout"
        },
        {
          "output_type": "display_data",
          "data": {
            "image/png": "[encoded data removed]",
            "text/plain": [
              "<Figure size 432x288 with 1 Axes>"
            ]
          },
          "metadata": {
            "tags": []
          }
        }
      ]
    },
    {
      "cell_type": "code",
      "metadata": {
        "id": "79eCg5tec7oe",
        "colab_type": "code",
        "colab": {}
      },
      "source": [
        "#경사하강법 이용.\n",
        "\n",
        "learning_rate = 0.1 #학습률\n",
        "\n",
        "w = tf.Variable(2.0) #기울기의 초깃값\n",
        "x = tf.placeholder(tf.float32)\n",
        "y = tf.placeholder(tf.float32)\n",
        "hypothesis = w*x\n",
        "cost = tf.reduce_mean(tf.square(hypothesis-y))\n",
        "cost = tf.reduce_mean(tf.square(hypothesis-y))\n",
        "\n",
        "gradient = tf.reduce_mean((w*x -y) * x)\n",
        "#w = w - learning rate * gradient\n",
        "descent = w - learning_rate * gradient #cost가 작아지도록 w 업데이트\n",
        "update = w.assign(descent) #assign을 사용하지 않으면 새로운 w가 지속적으로 생성 따라서 assign을 이용해야 업데이트 가능.\n"
      ],
      "execution_count": 0,
      "outputs": []
    },
    {
      "cell_type": "code",
      "metadata": {
        "id": "_IgYwU9Apthl",
        "colab_type": "code",
        "outputId": "76c72ac3-2f60-40cd-fd6e-e23cdecf7865",
        "colab": {
          "base_uri": "https://localhost:8080/",
          "height": 34
        }
      },
      "source": [
        "init = tf.global_variables_initializer()\n",
        "sess.run(init)\n",
        "\n",
        "sess.run(update, feed_dict={x:x_data, y:y_data})\n",
        "c, w_ = sess.run([cost,w], feed_dict = {x:x_data, y: y_data})\n",
        "print(c, w_) #첫번째 업데이트."
      ],
      "execution_count": 0,
      "outputs": [
        {
          "output_type": "stream",
          "text": [
            "0.43742207 1.2825\n"
          ],
          "name": "stdout"
        }
      ]
    },
    {
      "cell_type": "code",
      "metadata": {
        "id": "EN40Za36qFL_",
        "colab_type": "code",
        "outputId": "651cecb7-f024-4715-eefd-edecfccfc200",
        "colab": {
          "base_uri": "https://localhost:8080/",
          "height": 70
        }
      },
      "source": [
        "sess.run(update, feed_dict={x:x_data, y:y_data})\n",
        "c, w_ = sess.run([cost,w], feed_dict = {x:x_data, y: y_data})\n",
        "print(c, w_) #첫번째 업데이트.\n",
        "\n",
        "sess.run(update, feed_dict={x:x_data, y:y_data})\n",
        "c, w_ = sess.run([cost,w], feed_dict = {x:x_data, y: y_data})\n",
        "print(c, w_) #첫번째 업데이트.\n",
        "\n",
        "sess.run(update, feed_dict={x:x_data, y:y_data})\n",
        "c, w_ = sess.run([cost,w], feed_dict = {x:x_data, y: y_data})\n",
        "print(c, w_) #cost 값이 점점 작아짐."
      ],
      "execution_count": 0,
      "outputs": [
        {
          "output_type": "stream",
          "text": [
            "0.03522947 1.103125\n",
            "0.01009246 1.0582812\n",
            "0.008521404 1.0470703\n"
          ],
          "name": "stdout"
        }
      ]
    },
    {
      "cell_type": "code",
      "metadata": {
        "id": "8fmUNT7nqMPK",
        "colab_type": "code",
        "outputId": "0efdfaa3-614d-47a7-b1dc-3194aea7cd44",
        "colab": {
          "base_uri": "https://localhost:8080/",
          "height": 193
        }
      },
      "source": [
        "#반복문 이용\n",
        "sess.run(tf.global_variables_initializer()) # w 처음부터 다시 시작.\n",
        "\n",
        "for i in range(0,10) : \n",
        "  sess.run(update, feed_dict={x:x_data, y:y_data})\n",
        "  c, w_ = sess.run([cost, w], feed_dict = {x:x_data, y:y_data})\n",
        "  print(i, c, w_)"
      ],
      "execution_count": 0,
      "outputs": [
        {
          "output_type": "stream",
          "text": [
            "0 0.43742207 1.2825\n",
            "1 0.03522947 1.103125\n",
            "2 0.01009246 1.0582812\n",
            "3 0.008521404 1.0470703\n",
            "4 0.0084232045 1.0442675\n",
            "5 0.008417085 1.0435668\n",
            "6 0.008416693 1.0433917\n",
            "7 0.008416677 1.043348\n",
            "8 0.008416675 1.043337\n",
            "9 0.008416668 1.0433342\n"
          ],
          "name": "stdout"
        }
      ]
    },
    {
      "cell_type": "code",
      "metadata": {
        "id": "OzTeuaT2qm8D",
        "colab_type": "code",
        "outputId": "5fa77f59-7404-43fe-cdba-e8ec984f4e88",
        "colab": {
          "base_uri": "https://localhost:8080/",
          "height": 369
        }
      },
      "source": [
        "#반복문 이용\n",
        "sess.run(tf.global_variables_initializer()) # w 처음부터 다시 시작.\n",
        "\n",
        "for i in range(0,20) : \n",
        "  sess.run(update, feed_dict={x:x_data, y:y_data})\n",
        "  c, w_ = sess.run([cost, w], feed_dict = {x:x_data, y:y_data})\n",
        "  print(i, c, w_) #12번 하고 나면 더이상 차이가 없음 -> 학습을 많이 해도 cost 값이 계속 낮아지는 것은 아님."
      ],
      "execution_count": 0,
      "outputs": [
        {
          "output_type": "stream",
          "text": [
            "0 0.43742207 1.2825\n",
            "1 0.03522947 1.103125\n",
            "2 0.01009246 1.0582812\n",
            "3 0.008521404 1.0470703\n",
            "4 0.0084232045 1.0442675\n",
            "5 0.008417085 1.0435668\n",
            "6 0.008416693 1.0433917\n",
            "7 0.008416677 1.043348\n",
            "8 0.008416675 1.043337\n",
            "9 0.008416668 1.0433342\n",
            "10 0.008416667 1.0433335\n",
            "11 0.008416659 1.0433334\n",
            "12 0.008416668 1.0433333\n",
            "13 0.008416668 1.0433333\n",
            "14 0.008416668 1.0433333\n",
            "15 0.008416668 1.0433333\n",
            "16 0.008416668 1.0433333\n",
            "17 0.008416668 1.0433333\n",
            "18 0.008416668 1.0433333\n",
            "19 0.008416668 1.0433333\n"
          ],
          "name": "stdout"
        }
      ]
    },
    {
      "cell_type": "code",
      "metadata": {
        "id": "-CSPXJBEqtSi",
        "colab_type": "code",
        "outputId": "88d65b62-cb6b-4aa6-c94d-3faedd5a1545",
        "colab": {
          "base_uri": "https://localhost:8080/",
          "height": 584
        }
      },
      "source": [
        "#기울기인 gradient가 어떻게 변하는지 알아보자.\n",
        "sess.run(tf.global_variables_initializer())\n",
        "cs = []\n",
        "gs = []\n",
        "\n",
        "for i in range(0,10):\n",
        "  _, c, g = sess.run([update , cost, gradient], feed_dict= {x:x_data, y:  y_data}) #run함수를 한번만 사용할 수 있게 구현.\n",
        "  cs.append(c) #cost\n",
        "  gs.append(g) #gradient\n",
        "\n",
        "plt.plot(cs)\n",
        "plt.plot(gs)\n",
        "plt.legend(\"cost\", \"gradient\")"
      ],
      "execution_count": 0,
      "outputs": [
        {
          "output_type": "stream",
          "text": [
            "/usr/local/lib/python3.6/dist-packages/ipykernel_launcher.py:12: UserWarning: Legend does not support 'c' instances.\n",
            "A proxy artist may be used instead.\n",
            "See: http://matplotlib.org/users/legend_guide.html#creating-artists-specifically-for-adding-to-the-legend-aka-proxy-artists\n",
            "  if sys.path[0] == '':\n",
            "/usr/local/lib/python3.6/dist-packages/ipykernel_launcher.py:12: UserWarning: Legend does not support 'o' instances.\n",
            "A proxy artist may be used instead.\n",
            "See: http://matplotlib.org/users/legend_guide.html#creating-artists-specifically-for-adding-to-the-legend-aka-proxy-artists\n",
            "  if sys.path[0] == '':\n",
            "/usr/local/lib/python3.6/dist-packages/ipykernel_launcher.py:12: UserWarning: Legend does not support 's' instances.\n",
            "A proxy artist may be used instead.\n",
            "See: http://matplotlib.org/users/legend_guide.html#creating-artists-specifically-for-adding-to-the-legend-aka-proxy-artists\n",
            "  if sys.path[0] == '':\n",
            "/usr/local/lib/python3.6/dist-packages/ipykernel_launcher.py:12: UserWarning: Legend does not support 't' instances.\n",
            "A proxy artist may be used instead.\n",
            "See: http://matplotlib.org/users/legend_guide.html#creating-artists-specifically-for-adding-to-the-legend-aka-proxy-artists\n",
            "  if sys.path[0] == '':\n"
          ],
          "name": "stderr"
        },
        {
          "output_type": "execute_result",
          "data": {
            "text/plain": [
              "<matplotlib.legend.Legend at 0x7f284e47b4e0>"
            ]
          },
          "metadata": {
            "tags": []
          },
          "execution_count": 24
        },
        {
          "output_type": "display_data",
          "data": {
            "image/png": "[encoded data removed]",
            "text/plain": [
              "<Figure size 432x288 with 1 Axes>"
            ]
          },
          "metadata": {
            "tags": []
          }
        }
      ]
    },
    {
      "cell_type": "code",
      "metadata": {
        "id": "pTS5GesZrap4",
        "colab_type": "code",
        "outputId": "0c139b30-0214-4c45-9970-5aecc7376993",
        "colab": {
          "base_uri": "https://localhost:8080/",
          "height": 140
        }
      },
      "source": [
        "#중단 조건을 넣어 특정 기준 이상되면 학습 그만되도록 하기.\n",
        "sess.run(tf.global_variables_initializer())\n",
        "\n",
        "oldc = 1000\n",
        "for i in range(0,1000):\n",
        "  _, c, g = sess.run([update , cost, gradient], feed_dict= {x:x_data, y:  y_data})\n",
        "  print(i, c)\n",
        "  if oldc - c < 0.00001 : break\n",
        "  oldc = c\n",
        "  "
      ],
      "execution_count": 0,
      "outputs": [
        {
          "output_type": "stream",
          "text": [
            "0 6.8725004\n",
            "1 0.43742207\n",
            "2 0.03522947\n",
            "3 0.01009246\n",
            "4 0.008521404\n",
            "5 0.0084232045\n",
            "6 0.008417085\n"
          ],
          "name": "stdout"
        }
      ]
    },
    {
      "cell_type": "code",
      "metadata": {
        "id": "_21a2LMcr19X",
        "colab_type": "code",
        "outputId": "a345ffcc-260a-4f46-8c88-bf5bc6ce405b",
        "colab": {
          "base_uri": "https://localhost:8080/",
          "height": 314
        }
      },
      "source": [
        "#경사하강법에 의해 학습이 얼마나 잘되었는지 시각화.\n",
        "plt.xlabel(\"x\")\n",
        "plt.ylabel(\"y\")\n",
        "plt.plot(x_data, y_data, \"go\") #초록색 동그라미\n",
        "\n",
        "w_ = sess.run(w)\n",
        "print(w_)\n",
        "plt.plot(x_data, np.array(x_data) * w_, \"b\") #y축에 예측값을 넣어 파란색 직선으로 출력."
      ],
      "execution_count": 0,
      "outputs": [
        {
          "output_type": "stream",
          "text": [
            "1.0433917\n"
          ],
          "name": "stdout"
        },
        {
          "output_type": "execute_result",
          "data": {
            "text/plain": [
              "[<matplotlib.lines.Line2D at 0x7f284e4632e8>]"
            ]
          },
          "metadata": {
            "tags": []
          },
          "execution_count": 26
        },
        {
          "output_type": "display_data",
          "data": {
            "image/png": "[encoded data removed]",
            "text/plain": [
              "<Figure size 432x288 with 1 Axes>"
            ]
          },
          "metadata": {
            "tags": []
          }
        }
      ]
    },
    {
      "cell_type": "code",
      "metadata": {
        "id": "NZcda96mskA8",
        "colab_type": "code",
        "colab": {}
      },
      "source": [
        "#경사하강법은 w의 초기값에 따라 결과까지 가는데의 속도가 다를 수 있음.\n",
        "#tensorflow는 다양한 최적화 알고리즘을 지원.\n",
        "#경사하강법을 직접 구현하는 것이 아니고 학습률과 cost만 정의해서 계산 가능.\n",
        "x_data = [1.0,2,3,4]\n",
        "y_data = [1.1, 2.2, 3, 4.2]\n",
        "\n",
        "w = tf.Variable(0.0)\n",
        "\n",
        "hypothesis = w * x_data\n",
        "cost = tf.sqrt(tf.reduce_mean(tf.square(hypothesis - y_data)))\n",
        "\n",
        "learning_rate = 0.1\n",
        "update = tf.train.GradientDescentOptimizer(learning_rate).minimize(cost) #cost와 learning rate만 설정.\n",
        "\n"
      ],
      "execution_count": 0,
      "outputs": []
    },
    {
      "cell_type": "code",
      "metadata": {
        "id": "F6igeKwjueR-",
        "colab_type": "code",
        "outputId": "21a82f03-6195-48cd-f7f9-a163c39c2799",
        "colab": {
          "base_uri": "https://localhost:8080/",
          "height": 300
        }
      },
      "source": [
        "sess.run(tf.global_variables_initializer())\n",
        "cs = []\n",
        "for step in range(100):\n",
        "  c, _ = sess.run([cost, update])\n",
        "  cs.append(c)\n",
        "w_ = sess.run(w)\n",
        "print(w_, c)\n",
        "plt.plot(cs) #tensorflow는 도함수를 계산할 때 미분에서 발생하는 여러 요인에 의해 cost가 왔다갔다 할 수 있음."
      ],
      "execution_count": 0,
      "outputs": [
        {
          "output_type": "stream",
          "text": [
            "1.1761026 0.37500086\n"
          ],
          "name": "stdout"
        },
        {
          "output_type": "execute_result",
          "data": {
            "text/plain": [
              "[<matplotlib.lines.Line2D at 0x7f284e055c50>]"
            ]
          },
          "metadata": {
            "tags": []
          },
          "execution_count": 29
        },
        {
          "output_type": "display_data",
          "data": {
            "image/png": "[encoded data removed]",
            "text/plain": [
              "<Figure size 432x288 with 1 Axes>"
            ]
          },
          "metadata": {
            "tags": []
          }
        }
      ]
    },
    {
      "cell_type": "code",
      "metadata": {
        "id": "iUub57xVu7v1",
        "colab_type": "code",
        "outputId": "c1650590-0c32-443c-f43c-d24383ed3c30",
        "colab": {
          "base_uri": "https://localhost:8080/",
          "height": 300
        }
      },
      "source": [
        "#학습 파라미터가 추가 되어도 코드를 수정하지 않아도 괜찮음.\n",
        "x_data = [1.0,2,3,4]\n",
        "y_data = [1.1, 2.2, 3, 4.2]\n",
        "\n",
        "w = tf.Variable(0.0)\n",
        "b = tf.Variable(0.0)\n",
        "hypothesis = w * x_data + b #학습 모델 변경.\n",
        "\n",
        "cost = tf.sqrt(tf.reduce_mean(tf.square(hypothesis - y_data)))\n",
        "\n",
        "learning_rate = 0.1\n",
        "update = tf.train.GradientDescentOptimizer(learning_rate).minimize(cost)\n",
        "sess.run(tf.global_variables_initializer())\n",
        "cs = []\n",
        "for step in range(100):\n",
        "  c, _ = sess.run([cost, update])\n",
        "  cs.append(c)\n",
        "w_ = sess.run(w)\n",
        "print(w_, c)\n",
        "plt.plot(cs)\n",
        "#학습데이터가 너무 커서 학습이 제대로 되지 않는 경우에는 학습 데이터를 scailing 시키기.\n",
        "                                                                   "
      ],
      "execution_count": 0,
      "outputs": [
        {
          "output_type": "stream",
          "text": [
            "1.1420243 0.41751075\n"
          ],
          "name": "stdout"
        },
        {
          "output_type": "execute_result",
          "data": {
            "text/plain": [
              "[<matplotlib.lines.Line2D at 0x7f284dfdc550>]"
            ]
          },
          "metadata": {
            "tags": []
          },
          "execution_count": 31
        },
        {
          "output_type": "display_data",
          "data": {
            "image/png": "[encoded data removed]",
            "text/plain": [
              "<Figure size 432x288 with 1 Axes>"
            ]
          },
          "metadata": {
            "tags": []
          }
        }
      ]
    }
  ]
}