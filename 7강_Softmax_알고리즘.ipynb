{
  "nbformat": 4,
  "nbformat_minor": 0,
  "metadata": {
    "colab": {
      "name": "7강 Softmax 알고리즘",
      "provenance": [],
      "collapsed_sections": [],
      "authorship_tag": "ABX9TyPCBm9KyGRlqoAvAO7NFTza",
      "include_colab_link": true
    },
    "kernelspec": {
      "name": "python3",
      "display_name": "Python 3"
    }
  },
  "cells": [
    {
      "cell_type": "markdown",
      "metadata": {
        "id": "view-in-github",
        "colab_type": "text"
      },
      "source": [
        "<a href=\"https://colab.research.google.com/github/junehyung1112/hello-world/blob/master/7%EA%B0%95_Softmax_%EC%95%8C%EA%B3%A0%EB%A6%AC%EC%A6%98.ipynb\" target=\"_parent\"><img src=\"https://colab.research.google.com/assets/colab-badge.svg\" alt=\"Open In Colab\"/></a>"
      ]
    },
    {
      "cell_type": "code",
      "metadata": {
        "id": "y26Bnyufy4eT",
        "colab_type": "code",
        "colab": {}
      },
      "source": [
        "#softmax 알고리즘: 데이터가 여러 그룹으로 나누어져 있을 때 이를 분류.\n",
        "#로직스틱 회귀와 달리 n개의 범주로 분류.\n",
        "#2차원 공간에서 3가지 품종을 각각의 물리적인 특성에 따라 3가지 영역으로 구분 가능.\n",
        "#3개의 영역을 잘 구분할 수 있는 직선 학습: softmax\n",
        "#one-hot encoding = 샘플 하나에 대해 클래스 수 만큼 y값 확장.\n",
        "#클래스 수 = 분류기 수\n",
        "#softmax를 사용해 다중 class로 분류하려면\n",
        "#y값을 one-hot encoding값으로 만들어 행렬값으로 지정해야함.\n",
        "#결과값으로 최댓값을 가지는 분류기에 따라 무엇인지 결정.\n",
        "#단 분류기에서의 확률값이 비슷하게 나온 경우, 판단을 보류함.\n",
        "#다중 틀래스 예측은 출력값을 확률값으로 바꿔야 함.\n",
        "#정규화 : 전체 데이터 중 자신의 데이터의 비율을 계산.\n",
        "#softmax 정규화: 전체 데이터 합으로 자신의 출력값을 나누어줄때, 지수함수를 사용.\n",
        "#이유 : 값이 급격하게 변하기 때문에 지수함수를 사용.\n",
        "#작은 값들을 작게 하고 큰 값을 더 크게 만들 수 있음.\n",
        "\n",
        "#정답인 경우 cost가 0에 가깝게 오답일 경우 cost를 무한대 값을 가지게 정의해야함.\n",
        "#이러한 특성에 맞는 함수가 -log(x)함수."
      ],
      "execution_count": 0,
      "outputs": []
    },
    {
      "cell_type": "code",
      "metadata": {
        "id": "6KT-y7b668QQ",
        "colab_type": "code",
        "colab": {}
      },
      "source": [
        "import tensorflow as tf\n",
        "import numpy as np\n",
        "import matplotlib.pyplot as plt\n",
        "import pandas as pd #csv파일 가져오는 데 사용.\n",
        "\n",
        "%matplotlib inline\n",
        "\n",
        "sess = tf.Session()\n"
      ],
      "execution_count": 0,
      "outputs": []
    },
    {
      "cell_type": "code",
      "metadata": {
        "id": "OidcpeaK7aBC",
        "colab_type": "code",
        "outputId": "3f4e3f9c-bb30-4910-f201-57870e528eb3",
        "colab": {
          "base_uri": "https://localhost:8080/",
          "height": 34
        }
      },
      "source": [
        "#직선의 방정식 wx + b와 xw + b\n",
        "#tensorfloow로 코딩 할 때는 xw + b로 연산.\n",
        "#2차원 이상일 경우 x가 행렬이어야하므로 *연산자 대신 행렬곱을 사용.\n",
        "x = tf.constant([[1.0, 2.0]]) #대괄호 두번은 행렬을 의미.\n",
        "w = tf.constant([[3.0], [4.0]])\n",
        "\n",
        "y = tf.matmul(x, w)\n",
        "print(sess.run(y))\n",
        "\n"
      ],
      "execution_count": 0,
      "outputs": [
        {
          "output_type": "stream",
          "text": [
            "[[11.]]\n"
          ],
          "name": "stdout"
        }
      ]
    },
    {
      "cell_type": "code",
      "metadata": {
        "id": "ABC3M5IU95Nd",
        "colab_type": "code",
        "colab": {}
      },
      "source": [
        "#one-hot encoding\n",
        "y = [2,1,0,0]\n",
        "\n",
        "y_data = [[0,0,1],\n",
        "          [0,1,0],\n",
        "          [1,0,0],\n",
        "          [1,0,0]]"
      ],
      "execution_count": 0,
      "outputs": []
    },
    {
      "cell_type": "code",
      "metadata": {
        "id": "rw7MtE8g-KaV",
        "colab_type": "code",
        "colab": {}
      },
      "source": [
        "#학습데이터가 많아질 시 위에처럼 임의로 입력하기는 힘듬.\n",
        "def one_hot(y, nclass) :\n",
        "  r = y.shape[0]\n",
        "  mat = np.zeros([r, nclass])\n",
        "  for i in range(r):\n",
        "    mat[i, y[i]] = 1\n",
        "  return mat"
      ],
      "execution_count": 0,
      "outputs": []
    },
    {
      "cell_type": "code",
      "metadata": {
        "id": "P7mDqBJs-0D7",
        "colab_type": "code",
        "colab": {}
      },
      "source": [
        "#one-hot encoding된 것을 다시 label로 돌려야할 필요가 있을 때도 있음.\n",
        "def one_hot_2_label(y, nclass):\n",
        "  return np.argmax(y, axis=1) #axis가 1일 때 각각의 행벡터에 대해 최댓값의 인덱스를 return"
      ],
      "execution_count": 0,
      "outputs": []
    },
    {
      "cell_type": "code",
      "metadata": {
        "id": "Ai2YDwPW-jCR",
        "colab_type": "code",
        "outputId": "cad8a9ef-c732-4ca3-8fe0-2fcd023f70ae",
        "colab": {
          "base_uri": "https://localhost:8080/",
          "height": 140
        }
      },
      "source": [
        "\n",
        "y = np.array([0,0,2,1,2,1])\n",
        "y_data = one_hot(y,3)\n",
        "print(y_data)\n",
        "\n",
        "l = one_hot_2_label(y_data, 3)\n",
        "print(l)"
      ],
      "execution_count": 0,
      "outputs": [
        {
          "output_type": "stream",
          "text": [
            "[[1. 0. 0.]\n",
            " [1. 0. 0.]\n",
            " [0. 0. 1.]\n",
            " [0. 1. 0.]\n",
            " [0. 0. 1.]\n",
            " [0. 1. 0.]]\n",
            "[0 0 2 1 2 1]\n"
          ],
          "name": "stdout"
        }
      ]
    },
    {
      "cell_type": "code",
      "metadata": {
        "id": "h9uqC4tW_Rql",
        "colab_type": "code",
        "outputId": "f6740e86-7c81-48c0-e681-1c2725529445",
        "colab": {
          "base_uri": "https://localhost:8080/",
          "height": 140
        }
      },
      "source": [
        "#텐서플로우가 제공하는 onehot함수를 이용.\n",
        "#텐서플로우의 onehot함수를 사용하면 gpu에서 고속 연산 가능.\n",
        "y_data = sess.run(tf.one_hot([0,0,2,1,2,1,], 3))\n",
        "print(y_data)\n",
        "l = sess.run(tf.argmax(y_data, axis=1)) #one hot 인코딩된 행렬을 다시 label로 변환.\n",
        "print(l)"
      ],
      "execution_count": 0,
      "outputs": [
        {
          "output_type": "stream",
          "text": [
            "[[1. 0. 0.]\n",
            " [1. 0. 0.]\n",
            " [0. 0. 1.]\n",
            " [0. 1. 0.]\n",
            " [0. 0. 1.]\n",
            " [0. 1. 0.]]\n",
            "[0 0 2 1 2 1]\n"
          ],
          "name": "stdout"
        }
      ]
    },
    {
      "cell_type": "code",
      "metadata": {
        "id": "eoNQBrU7_nxX",
        "colab_type": "code",
        "outputId": "a31ab698-a3de-4edf-c123-80cc4d660cab",
        "colab": {
          "base_uri": "https://localhost:8080/",
          "height": 52
        }
      },
      "source": [
        "#지수함수를 사용하는 소프트맥스 정규화.\n",
        "#출력한 값을 확률로 표현하기 위해 비율을 계산.\n",
        "#확률값의 차이를 좀더 확실히 구분하기 위해 지수함수 사용.\n",
        "x = np.array([0.4, 0.8, 1.6, 3.2])\n",
        "n = x / np.sum(x) #일반적인 정규화.\n",
        "print(n)\n",
        "\n",
        "n2 = sess.run(tf.nn.softmax(x)) #텐서플로우의 softmax함수를 이용하면 쉽게 사용가능.\n",
        "print(n2)\n",
        "\n",
        "#후자는 작은 값은 작아지고 큰 값은 커짐."
      ],
      "execution_count": 0,
      "outputs": [
        {
          "output_type": "stream",
          "text": [
            "[0.06666667 0.13333333 0.26666667 0.53333333]\n",
            "[0.04493052 0.06702845 0.14917457 0.73886646]\n"
          ],
          "name": "stdout"
        }
      ]
    },
    {
      "cell_type": "code",
      "metadata": {
        "id": "UQgu74mxAUQh",
        "colab_type": "code",
        "outputId": "e098434b-9d82-433c-8c3a-73bdb560f5b1",
        "colab": {
          "base_uri": "https://localhost:8080/",
          "height": 217
        }
      },
      "source": [
        "#정규화된 확률을 파이그래프를 이용해 시각적으로 표현.\n",
        "plt.subplot(121) #두개의 그래프를 동시에 출력하기 위해 subplot함수 사용.\n",
        "plt.pie(n, autopct=\"%1.1f%%\")\n",
        "plt.title(\"x\")\n",
        "\n",
        "plt.subplot(122)\n",
        "plt.pie(n2, autopct=\"%1.1f%%\")\n",
        "plt.title(\"softmax(x)\")"
      ],
      "execution_count": 0,
      "outputs": [
        {
          "output_type": "execute_result",
          "data": {
            "text/plain": [
              "Text(0.5, 1.0, 'softmax(x)')"
            ]
          },
          "metadata": {
            "tags": []
          },
          "execution_count": 14
        },
        {
          "output_type": "display_data",
          "data": {
            "image/png": "[encoded data removed]",
            "text/plain": [
              "<Figure size 432x288 with 2 Axes>"
            ]
          },
          "metadata": {
            "tags": []
          }
        }
      ]
    },
    {
      "cell_type": "code",
      "metadata": {
        "id": "WHYL5HsyAvGa",
        "colab_type": "code",
        "outputId": "ce9fa763-f777-408f-8980-6bf6705be084",
        "colab": {
          "base_uri": "https://localhost:8080/",
          "height": 52
        }
      },
      "source": [
        "#소프트 맥스에서 사용하는 cost 함수인 cross entropy에 대해 알아보기.\n",
        "p = [0.1, 0.3, 0.6] #세개의 클래스에 대한 확률값이 주어짐.\n",
        "y = [1.0, 0, 0] #x데이터는 첫번째 클래스에 속한다고 생각하고 원핫인코딩을 수행한 결과.\n",
        "entropy = y * tf.log(p) \n",
        "entropy_sum = -tf.reduce_sum(entropy)\n",
        "print(sess.run(entropy))\n",
        "print(sess.run(entropy_sum))\n",
        "#오류이기 때문에 크로스 엔트로피가 크게 나옴."
      ],
      "execution_count": 0,
      "outputs": [
        {
          "output_type": "stream",
          "text": [
            "[-2.3025851 -0.        -0.       ]\n",
            "2.3025851\n"
          ],
          "name": "stdout"
        }
      ]
    },
    {
      "cell_type": "code",
      "metadata": {
        "id": "3ZtBo9jHBrwP",
        "colab_type": "code",
        "outputId": "d6423dcc-4671-46e1-a47b-d64245d46ecc",
        "colab": {
          "base_uri": "https://localhost:8080/",
          "height": 52
        }
      },
      "source": [
        "p = [0.1, 0.3, 0.6] #세개의 클래스에 대한 확률값이 주어짐.\n",
        "y = [0, 0, 1.0] #x데이터는 첫번째 클래스에 속한다고 생각하고 원핫인코딩을 수행한 결과.\n",
        "entropy = y * tf.log(p) \n",
        "entropy_sum = -tf.reduce_sum(entropy)\n",
        "print(sess.run(entropy))\n",
        "print(sess.run(entropy_sum))\n",
        "#정답이기 때문에 크로스 엔트로피가 작게 나옴."
      ],
      "execution_count": 0,
      "outputs": [
        {
          "output_type": "stream",
          "text": [
            "[-0.        -0.        -0.5108256]\n",
            "0.5108256\n"
          ],
          "name": "stdout"
        }
      ]
    },
    {
      "cell_type": "code",
      "metadata": {
        "id": "ib2_CNq1CiVw",
        "colab_type": "code",
        "outputId": "6dac7078-60d1-45d1-8d01-674cabf511db",
        "colab": {
          "base_uri": "https://localhost:8080/",
          "height": 282
        }
      },
      "source": [
        "#가상의 data set을 분류하기.\n",
        "nb_classes = 3\n",
        "dim = 2\n",
        "\n",
        "x_data = np.array([\n",
        "          [1, 2],\n",
        "          [1.0, 3],\n",
        "          [1.2, 2.8],\n",
        "          [2.7, 3.2],\n",
        "          [3.2, 2.8],\n",
        "          [3.1, 3.2],\n",
        "          [0.9, 0.2],\n",
        "          [1.2, 1.1],\n",
        "          [2.1, 0.8]])\n",
        "\n",
        "y_data = np.array([0,0,0,1,1,1,2,2,2])\n",
        "\n",
        "colors = [\"red\"  if i == 0  else  (   \"green\"  if i == 1 else \"blue\")   for i  in y_data   ]\n",
        "plt.scatter(x_data[:,0], x_data[:,1], color=colors)"
      ],
      "execution_count": 0,
      "outputs": [
        {
          "output_type": "execute_result",
          "data": {
            "text/plain": [
              "<matplotlib.collections.PathCollection at 0x7f3b5e3b3a58>"
            ]
          },
          "metadata": {
            "tags": []
          },
          "execution_count": 17
        },
        {
          "output_type": "display_data",
          "data": {
            "image/png": "[encoded data removed]",
            "text/plain": [
              "<Figure size 432x288 with 1 Axes>"
            ]
          },
          "metadata": {
            "tags": []
          }
        }
      ]
    },
    {
      "cell_type": "code",
      "metadata": {
        "id": "jooAIfGsDCEt",
        "colab_type": "code",
        "outputId": "b5c56ea6-3963-4851-8eb3-3ac3c3f13f21",
        "colab": {
          "base_uri": "https://localhost:8080/",
          "height": 175
        }
      },
      "source": [
        "#one-hot 인코딩 함수를 사용해 y data를 9*3행렬로 변경.\n",
        "def one_hot(y, nclass) :\n",
        "    r = y.shape[0]\n",
        "    mat = np.zeros([r, nclass])\n",
        "    for i in range(r) :\n",
        "        mat[i, y[i]] = 1        \n",
        "    return mat\n",
        "\n",
        "y_data_one_hot = one_hot(np.array(y_data) , nb_classes)\n",
        "print(y_data_one_hot)"
      ],
      "execution_count": 0,
      "outputs": [
        {
          "output_type": "stream",
          "text": [
            "[[1. 0. 0.]\n",
            " [1. 0. 0.]\n",
            " [1. 0. 0.]\n",
            " [0. 1. 0.]\n",
            " [0. 1. 0.]\n",
            " [0. 1. 0.]\n",
            " [0. 0. 1.]\n",
            " [0. 0. 1.]\n",
            " [0. 0. 1.]]\n"
          ],
          "name": "stdout"
        }
      ]
    },
    {
      "cell_type": "code",
      "metadata": {
        "id": "lj-HmLwKDSrm",
        "colab_type": "code",
        "colab": {}
      },
      "source": [
        "x = tf.placeholder(\"float\", [None, dim])\n",
        "y = tf.placeholder(\"float\", [None, nb_classes])\n",
        "\n",
        "\n",
        "w = tf.Variable(tf.random_normal([dim, nb_classes])) #2차원 데이터 클래스 수는 3 2*3 행렬로 초기화.\n",
        "b = tf.Variable(tf.random_normal([nb_classes])) #클래스마다 학습되어야 해서 크기가 3인 벡터를 생성해 랜덤값으로 초기화\n",
        "\n",
        "hypothesis = tf.nn.softmax(tf.matmul(x, w) + b) #softmax 출력값이 계산됨.\n",
        "\n",
        "\n",
        "cost = tf.reduce_mean(-tf.reduce_sum(y * tf.log(hypothesis), axis=1))\n",
        "\n",
        "update = tf.train.GradientDescentOptimizer(learning_rate=0.1).minimize(cost)#경사하강법으로 최적하ㅘ"
      ],
      "execution_count": 0,
      "outputs": []
    },
    {
      "cell_type": "code",
      "metadata": {
        "id": "YRJpsnqLDhSd",
        "colab_type": "code",
        "outputId": "67999561-d561-4030-b2b6-6c4968dadd48",
        "colab": {
          "base_uri": "https://localhost:8080/",
          "height": 158
        }
      },
      "source": [
        "sess.run(tf.global_variables_initializer())\n",
        "\n",
        "for step in range(7001):\n",
        "    sess.run(update, feed_dict={x: x_data, y: y_data_one_hot})\n",
        "    if step % 1000 == 0:\n",
        "           c= sess.run(cost, feed_dict={x: x_data, y: y_data_one_hot})\n",
        "           print(step, c)\n",
        "#이처럼 다중 분류를 사용해도 학습 코드는 동일하고 cost함수만 제대로 하면 됨.\n",
        "#cost값이 줄어듬을 확인할 수 있음 -> 학습이 진행중."
      ],
      "execution_count": 0,
      "outputs": [
        {
          "output_type": "stream",
          "text": [
            "0 1.5712943\n",
            "1000 0.051022306\n",
            "2000 0.026348809\n",
            "3000 0.017829541\n",
            "4000 0.0135007715\n",
            "5000 0.010876522\n",
            "6000 0.009113701\n",
            "7000 0.0078469245\n"
          ],
          "name": "stdout"
        }
      ]
    },
    {
      "cell_type": "code",
      "metadata": {
        "id": "uggIBHlLDwg0",
        "colab_type": "code",
        "outputId": "cd1c9f10-fb73-4c7f-81d7-e6a77522c84c",
        "colab": {
          "base_uri": "https://localhost:8080/",
          "height": 52
        }
      },
      "source": [
        "#학습 데이터에 대한 예측값과 정확도를 계산.\n",
        "#예측값을 계산 \n",
        "#클래스가 3개이고 두개의 데이터를 가지고 예측값을 계산한다면 소프트맥스 후에는 2*3이 됨.\n",
        "#여기에 argmax를 적용하면 각각의 행에 의해서 최댓값을 갖는 인덱스가 리턴됨.\n",
        "#처음에는 0.8 -> 2 e두번째는 0.6 -> 1\n",
        "#이렇게 해서 주어진 두개의 데이터에 대한 예측값 알 수있음.\n",
        "#one-hot encoding 행렬도 argmax로 레이블을 찾음.\n",
        "#결과 두개를 비교해서 true인 것은 맞고 false인 것은 레이블이 일치하지 않는 것\n",
        "#이 결과를 compared에 저장. 그 후 평균을 계산 -> 정확도.\n",
        "\"\"\"  \n",
        "  softmax(hypothesis) ->   [ 0.1  0.1   0.8]   -> argmax ->  [ 2 1]   \n",
        "                           [ 0,1  0.6   0.3]                            \n",
        "  y =  [ 0 0 1]     argmax ->   [ 2 0]\n",
        "       [ 1 0 0]  \n",
        "  equal(  [2 1] ,   [2  0] )    ->  [true, false]   ->  cast ->   [1.0  0.0]   -> mean   -> 0.5    \n",
        "\"\"\" \n",
        "\n",
        "predicted = tf.argmax(hypothesis, 1)\n",
        "compared = tf.equal(predicted , tf.argmax(y, 1))\n",
        "accuracy = tf.reduce_mean(tf.cast(compared, tf.float32))\n",
        "\n",
        "p, a = sess.run([predicted, accuracy],  feed_dict={x: x_data, y:y_data_one_hot})\n",
        "print(p)\n",
        "print(a)\n",
        "#간단한 데이터 여서 학습 인식률은 100%로 나옴."
      ],
      "execution_count": 0,
      "outputs": [
        {
          "output_type": "stream",
          "text": [
            "[0 0 0 1 1 1 2 2 2]\n",
            "1.0\n"
          ],
          "name": "stdout"
        }
      ]
    },
    {
      "cell_type": "code",
      "metadata": {
        "id": "KdDSHEXjEmyx",
        "colab_type": "code",
        "outputId": "9eeeacea-4e03-4692-a903-acad322835a4",
        "colab": {
          "base_uri": "https://localhost:8080/",
          "height": 300
        }
      },
      "source": [
        "colors = [\"red\"  if i == 0  else  (   \"green\"  if i == 1 else \"blue\")   for i  in y_data   ]\n",
        "plt.scatter(x_data[:,0], x_data[:,1], color=colors) \n",
        "\n",
        "\n",
        "xx, yy = np.mgrid[0:3.5:0.1, 0:3.5:0.1] #mgrid함수를 사용해 결정경계출력. x축과 y축이 0~3.5까지 변하면서 \n",
        "#0.1의 간격으로 점을 만들어 xx, yy에 저장. \n",
        "print(xx.shape)\n",
        "grid = np.c_[xx.flatten(), yy.flatten()] #xx와 yy를 flatten함수를 사용해 1차원 벡터로 변환. 그후 concat함수로\n",
        "#각 열을 결합하여 새로운 행렬을 만듬.\n",
        "\n",
        "p = sess.run(predicted, feed_dict={x: grid})\n",
        "colors = [\"red\"  if i == 0  else  (   \"green\"  if i == 1 else \"blue\")      for i  in p   ]\n",
        "plt.scatter(xx.flatten(), yy.flatten(), color = colors, alpha=0.2)"
      ],
      "execution_count": 0,
      "outputs": [
        {
          "output_type": "stream",
          "text": [
            "(35, 35)\n"
          ],
          "name": "stdout"
        },
        {
          "output_type": "execute_result",
          "data": {
            "text/plain": [
              "<matplotlib.collections.PathCollection at 0x7f3b5b5d0b00>"
            ]
          },
          "metadata": {
            "tags": []
          },
          "execution_count": 24
        },
        {
          "output_type": "display_data",
          "data": {
            "image/png": "[encoded data removed]",
            "text/plain": [
              "<Figure size 432x288 with 1 Axes>"
            ]
          },
          "metadata": {
            "tags": []
          }
        }
      ]
    },
    {
      "cell_type": "code",
      "metadata": {
        "id": "S8a8X8PvHJoU",
        "colab_type": "code",
        "outputId": "6d9ebe80-24c7-4e08-834a-d8207b824fe1",
        "colab": {
          "base_uri": "https://localhost:8080/",
          "height": 125
        }
      },
      "source": [
        "from google.colab import drive #구글 드라이브에서 정보를 가져오기 위해서 코랩과 구글 드라이브를 연동.\n",
        "drive.mount(\"/content/drive\")"
      ],
      "execution_count": 0,
      "outputs": [
        {
          "output_type": "stream",
          "text": [
            "Go to this URL in a browser: https://accounts.google.com/o/oauth2/auth?client_id=947318989803-6bn6qk8qdgf4n4g3pfee6491hc0brc4i.apps.googleusercontent.com&redirect_uri=urn%3aietf%3awg%3aoauth%3a2.0%3aoob&response_type=code&scope=email%20https%3a%2f%2fwww.googleapis.com%2fauth%2fdocs.test%20https%3a%2f%2fwww.googleapis.com%2fauth%2fdrive%20https%3a%2f%2fwww.googleapis.com%2fauth%2fdrive.photos.readonly%20https%3a%2f%2fwww.googleapis.com%2fauth%2fpeopleapi.readonly\n",
            "\n",
            "Enter your authorization code:\n",
            "··········\n",
            "Mounted at /content/drive\n"
          ],
          "name": "stdout"
        }
      ]
    },
    {
      "cell_type": "code",
      "metadata": {
        "id": "mxeOh44cHPkm",
        "colab_type": "code",
        "outputId": "a6179c76-05e0-411f-b281-5b208fbd0aa5",
        "colab": {
          "base_uri": "https://localhost:8080/",
          "height": 166
        }
      },
      "source": [
        "#붓꽃을 분류. 꽃잎 폭과 길이, 꽃받침의 폭과 길이의 4개 측정값으로 구성.\n",
        "df = pd.read_csv('/content/drive/My Drive/files/iris.csv')\n",
        "df.head(4)\n",
        "#4개의 데이터를 가진 75개의 샘플 중 pandas로 처음 4개의 샘플을 출력.\n",
        "#데이터의 0~3 column이 학습데이터 마지막이 레이블. 레이블은 1~3으로 이루어짐."
      ],
      "execution_count": 0,
      "outputs": [
        {
          "output_type": "execute_result",
          "data": {
            "text/html": [
              "<div>\n",
              "<style scoped>\n",
              "    .dataframe tbody tr th:only-of-type {\n",
              "        vertical-align: middle;\n",
              "    }\n",
              "\n",
              "    .dataframe tbody tr th {\n",
              "        vertical-align: top;\n",
              "    }\n",
              "\n",
              "    .dataframe thead th {\n",
              "        text-align: right;\n",
              "    }\n",
              "</style>\n",
              "<table border=\"1\" class=\"dataframe\">\n",
              "  <thead>\n",
              "    <tr style=\"text-align: right;\">\n",
              "      <th></th>\n",
              "      <th>5.1</th>\n",
              "      <th>3.5</th>\n",
              "      <th>1.4</th>\n",
              "      <th>0.2</th>\n",
              "      <th>1</th>\n",
              "    </tr>\n",
              "  </thead>\n",
              "  <tbody>\n",
              "    <tr>\n",
              "      <th>0</th>\n",
              "      <td>4.9</td>\n",
              "      <td>3.0</td>\n",
              "      <td>1.4</td>\n",
              "      <td>0.2</td>\n",
              "      <td>1</td>\n",
              "    </tr>\n",
              "    <tr>\n",
              "      <th>1</th>\n",
              "      <td>4.7</td>\n",
              "      <td>3.2</td>\n",
              "      <td>1.3</td>\n",
              "      <td>0.2</td>\n",
              "      <td>1</td>\n",
              "    </tr>\n",
              "    <tr>\n",
              "      <th>2</th>\n",
              "      <td>4.6</td>\n",
              "      <td>3.1</td>\n",
              "      <td>1.5</td>\n",
              "      <td>0.2</td>\n",
              "      <td>1</td>\n",
              "    </tr>\n",
              "    <tr>\n",
              "      <th>3</th>\n",
              "      <td>5.0</td>\n",
              "      <td>3.6</td>\n",
              "      <td>1.4</td>\n",
              "      <td>0.2</td>\n",
              "      <td>1</td>\n",
              "    </tr>\n",
              "  </tbody>\n",
              "</table>\n",
              "</div>"
            ],
            "text/plain": [
              "   5.1  3.5  1.4  0.2  1\n",
              "0  4.9  3.0  1.4  0.2  1\n",
              "1  4.7  3.2  1.3  0.2  1\n",
              "2  4.6  3.1  1.5  0.2  1\n",
              "3  5.0  3.6  1.4  0.2  1"
            ]
          },
          "metadata": {
            "tags": []
          },
          "execution_count": 30
        }
      ]
    },
    {
      "cell_type": "code",
      "metadata": {
        "id": "Lky4LDNAH2sq",
        "colab_type": "code",
        "colab": {}
      },
      "source": [
        "#numpy 모듈을 사용해 csv파일을 로딩\n",
        "data = np.loadtxt('/content/drive/My Drive/files/iris.csv', delimiter=\",\", dtype=np.float32)\n",
        "\n",
        "dim = 4 #특징 차원의 수\n",
        "nb_classes = 3 #분류할 클래스 수\n",
        "x_data = data[:, 0:dim] #처음 4개의 특징 데이터를 저장\n",
        "y_data = data[:,dim] -1    # 데이터의 마지막 속성 저장. 레이블이 1~3으로 이루어져 있어서 -1을 해서 0~2로 만듬\n",
        "\n",
        "x = tf.placeholder(\"float\", [None, dim])\n",
        "y = tf.one_hot(y_data, nb_classes)\n",
        "\n",
        "w = tf.Variable(tf.random_normal([dim, nb_classes])) #4*3 행렬, 랜덤값으로 초기화.\n",
        "b = tf.Variable(tf.random_normal([nb_classes])) #클래스마다 추정되어야 해서 크기 3의 벡터로 촉화\n",
        "\n",
        "hypothesis = tf.nn.softmax(tf.matmul(x, w) + b) \n",
        "\n",
        "\n",
        "cost = tf.reduce_mean(-tf.reduce_sum(y * tf.log(hypothesis), axis=1)) #cross entropy를 사용해 cost 계산\n",
        "update = tf.train.GradientDescentOptimizer(learning_rate=0.1).minimize(cost)"
      ],
      "execution_count": 0,
      "outputs": []
    },
    {
      "cell_type": "code",
      "metadata": {
        "id": "sTkeyKRyJKcW",
        "colab_type": "code",
        "outputId": "00b5a913-5c9b-4008-c529-ba40679ed567",
        "colab": {
          "base_uri": "https://localhost:8080/",
          "height": 210
        }
      },
      "source": [
        "sess.run(tf.global_variables_initializer())\n",
        "\n",
        "for step in range(5001): #학습은 5000번 수행하고 500번마다 cost함수의 결과값을 출력.\n",
        "    sess.run(update, feed_dict={x: x_data})\n",
        "    if step % 500 == 0:\n",
        "           print(step, sess.run(cost, feed_dict={x: x_data}))    \n"
      ],
      "execution_count": 0,
      "outputs": [
        {
          "output_type": "stream",
          "text": [
            "0 6.838736\n",
            "500 0.1537587\n",
            "1000 0.10329458\n",
            "1500 0.08305176\n",
            "2000 0.07168589\n",
            "2500 0.064232685\n",
            "3000 0.05888445\n",
            "3500 0.05481292\n",
            "4000 0.051580843\n",
            "4500 0.048933722\n",
            "5000 0.046712518\n"
          ],
          "name": "stdout"
        }
      ]
    },
    {
      "cell_type": "code",
      "metadata": {
        "id": "SObtpyekJSTg",
        "colab_type": "code",
        "outputId": "755c5863-9511-43e2-b9f0-d1b4b35263b2",
        "colab": {
          "base_uri": "https://localhost:8080/",
          "height": 34
        }
      },
      "source": [
        "#학습 인식률을 계산.\n",
        "predicted = tf.argmax(hypothesis, 1) #소프트 맥스의 최대 출력값의 위치 즉 예측 레이블 계산\n",
        "compared = tf.equal(predicted , tf.argmax(y, 1)) #one0hot encoding된 학습 레이블의 최대값 위치가 같은지 파악.\n",
        "accuracy = tf.reduce_mean(tf.cast(compared, tf.float32)) #compared 값에서 true를 1로 false를 0으로 변환. 그 후 평균을 냄.\n",
        "\n",
        "print(\"인식률\",   sess.run(accuracy,  feed_dict={x: x_data}) )\n"
      ],
      "execution_count": 0,
      "outputs": [
        {
          "output_type": "stream",
          "text": [
            "인식률 1.0\n"
          ],
          "name": "stdout"
        }
      ]
    },
    {
      "cell_type": "code",
      "metadata": {
        "id": "6UIM1WJUJufQ",
        "colab_type": "code",
        "outputId": "cdcdee42-c6d6-4386-f5c2-d7a4b3ef2534",
        "colab": {
          "base_uri": "https://localhost:8080/",
          "height": 148
        }
      },
      "source": [
        "h = sess.run(hypothesis, feed_dict={x: x_data})\n",
        "plt.figure(1, figsize=(20,40))\n",
        "print(h.shape) #75*3 크기\n",
        "plt.imshow(h.T, cmap='gray') #transpose로 인해 3*75 1이면 흰 0이면 검은 그 사이면 회색으로 표현\n",
        "#4차원 데이터의 경우 결정경계를 분석하기 어려움(2차원일 때만 가능)\n",
        "#75개 데이터에 대한 softmax 출력값을 이미지로 출력해 분석하기.\n",
        "#25개씩 순차적으로 구성되어 있음을 알 수 있음. 처음 25개는 클래스 1에 속함.\n",
        "#2번째 그룹과 3번째 그룹에서의 일부 데이터는 인식에 혼란이 있을 수 있음."
      ],
      "execution_count": 0,
      "outputs": [
        {
          "output_type": "stream",
          "text": [
            "(75, 3)\n"
          ],
          "name": "stdout"
        },
        {
          "output_type": "execute_result",
          "data": {
            "text/plain": [
              "<matplotlib.image.AxesImage at 0x7f3b5b3e5ef0>"
            ]
          },
          "metadata": {
            "tags": []
          },
          "execution_count": 36
        },
        {
          "output_type": "display_data",
          "data": {
            "image/png": "[encoded data removed]",
            "text/plain": [
              "<Figure size 1440x2880 with 1 Axes>"
            ]
          },
          "metadata": {
            "tags": []
          }
        }
      ]
    },
    {
      "cell_type": "code",
      "metadata": {
        "id": "CWZjvPn-KT4P",
        "colab_type": "code",
        "colab": {}
      },
      "source": [
        "#특징차원을 3개로 줄여보자.\n",
        "data = np.loadtxt('/content/drive/My Drive/files/iris.csv', delimiter=\",\", dtype=np.float32)\n",
        "\n",
        "dim = 4 #특징 차원의 수\n",
        "nb_classes = 3 #분류할 클래스 수\n",
        "x_data = data[:, 0:dim] #처음 4개의 특징 데이터를 저장\n",
        "y_data = data[:,dim] -1    # 데이터의 마지막 속성 저장. 레이블이 1~3으로 이루어져 있어서 -1을 해서 0~2로 만듬\n",
        "\n",
        "x = tf.placeholder(\"float\", [None, dim])\n",
        "y = tf.one_hot(y_data, nb_classes)\n",
        "\n",
        "w = tf.Variable(tf.random_normal([dim, nb_classes])) #4*3 행렬, 랜덤값으로 초기화.\n",
        "b = tf.Variable(tf.random_normal([nb_classes])) #클래스마다 추정되어야 해서 크기 3의 벡터로 촉화\n",
        "\n",
        "hypothesis = tf.nn.softmax(tf.matmul(x, w) + b) \n",
        "\n",
        "\n",
        "cost = tf.reduce_mean(-tf.reduce_sum(y * tf.log(hypothesis), axis=1)) #cross entropy를 사용해 cost 계산\n",
        "update = tf.train.GradientDescentOptimizer(learning_rate=0.1).minimize(cost)"
      ],
      "execution_count": 0,
      "outputs": []
    },
    {
      "cell_type": "code",
      "metadata": {
        "id": "n2WXODDqKcPd",
        "colab_type": "code",
        "outputId": "29102c17-5be9-4658-c35d-334e22db1e3a",
        "colab": {
          "base_uri": "https://localhost:8080/",
          "height": 342
        }
      },
      "source": [
        "sess.run(tf.global_variables_initializer())\n",
        "\n",
        "for step in range(5001):\n",
        "    sess.run(update, feed_dict={x: x_data})\n",
        "    if step % 500 == 0:\n",
        "           print(step, sess.run(cost, feed_dict={x: x_data}))     \n",
        "            \n",
        "            \n",
        "predicted = tf.argmax(hypothesis, 1)\n",
        "compared = tf.equal(predicted , tf.argmax(y, 1))\n",
        "accuracy = tf.reduce_mean(tf.cast(compared, tf.float32))\n",
        "\n",
        "print(\"인식률\",   sess.run(accuracy,  feed_dict={x: x_data}) )\n",
        "\n",
        "h = sess.run(hypothesis, feed_dict={x: x_data})\n",
        "plt.figure(1, figsize=(20,40))\n",
        "plt.imshow(h.T, cmap='gray')\n",
        "#위의 코드와 다 같지만, 학습후 인식률과 softmax 값을 시각화함.\n"
      ],
      "execution_count": 0,
      "outputs": [
        {
          "output_type": "stream",
          "text": [
            "0 2.3341432\n",
            "500 0.14184108\n",
            "1000 0.09705002\n",
            "1500 0.07846758\n",
            "2000 0.06793908\n",
            "2500 0.06101414\n",
            "3000 0.05603919\n",
            "3500 0.05224984\n",
            "4000 0.049240693\n",
            "4500 0.046775397\n",
            "5000 0.04470608\n",
            "인식률 1.0\n"
          ],
          "name": "stdout"
        },
        {
          "output_type": "execute_result",
          "data": {
            "text/plain": [
              "<matplotlib.image.AxesImage at 0x7f3b5b3769b0>"
            ]
          },
          "metadata": {
            "tags": []
          },
          "execution_count": 38
        },
        {
          "output_type": "display_data",
          "data": {
            "image/png": "[encoded data removed]",
            "text/plain": [
              "<Figure size 1440x2880 with 1 Axes>"
            ]
          },
          "metadata": {
            "tags": []
          }
        }
      ]
    },
    {
      "cell_type": "code",
      "metadata": {
        "id": "eXJHx-8GKyGF",
        "colab_type": "code",
        "outputId": "63a98a55-0082-4bb8-8b6d-e12bbc28f134",
        "colab": {
          "base_uri": "https://localhost:8080/",
          "height": 186
        }
      },
      "source": [
        "#특정 와인에 대해서 13개의 화학적 특성을 측정하여 분류되지 않은 와인에 대해 화확적 특성을 측정 후, 어떤 종류의 와인인지 예측\n",
        "df = pd.read_csv('/content/drive/My Drive/files/wine.csv')\n",
        "df.head(4)"
      ],
      "execution_count": 0,
      "outputs": [
        {
          "output_type": "execute_result",
          "data": {
            "text/html": [
              "<div>\n",
              "<style scoped>\n",
              "    .dataframe tbody tr th:only-of-type {\n",
              "        vertical-align: middle;\n",
              "    }\n",
              "\n",
              "    .dataframe tbody tr th {\n",
              "        vertical-align: top;\n",
              "    }\n",
              "\n",
              "    .dataframe thead th {\n",
              "        text-align: right;\n",
              "    }\n",
              "</style>\n",
              "<table border=\"1\" class=\"dataframe\">\n",
              "  <thead>\n",
              "    <tr style=\"text-align: right;\">\n",
              "      <th></th>\n",
              "      <th>#Wine</th>\n",
              "      <th>Alcohol</th>\n",
              "      <th>Malic.acid</th>\n",
              "      <th>Ash</th>\n",
              "      <th>Acl</th>\n",
              "      <th>Mg</th>\n",
              "      <th>Phenols</th>\n",
              "      <th>Flavanoids</th>\n",
              "      <th>Nonflavanoid.phenols</th>\n",
              "      <th>Proanth</th>\n",
              "      <th>Color.int</th>\n",
              "      <th>Hue</th>\n",
              "      <th>OD</th>\n",
              "      <th>Proline</th>\n",
              "    </tr>\n",
              "  </thead>\n",
              "  <tbody>\n",
              "    <tr>\n",
              "      <th>0</th>\n",
              "      <td>1</td>\n",
              "      <td>14.23</td>\n",
              "      <td>1.71</td>\n",
              "      <td>2.43</td>\n",
              "      <td>15.6</td>\n",
              "      <td>127</td>\n",
              "      <td>2.80</td>\n",
              "      <td>3.06</td>\n",
              "      <td>0.28</td>\n",
              "      <td>2.29</td>\n",
              "      <td>5.64</td>\n",
              "      <td>1.04</td>\n",
              "      <td>3.92</td>\n",
              "      <td>1065</td>\n",
              "    </tr>\n",
              "    <tr>\n",
              "      <th>1</th>\n",
              "      <td>1</td>\n",
              "      <td>13.20</td>\n",
              "      <td>1.78</td>\n",
              "      <td>2.14</td>\n",
              "      <td>11.2</td>\n",
              "      <td>100</td>\n",
              "      <td>2.65</td>\n",
              "      <td>2.76</td>\n",
              "      <td>0.26</td>\n",
              "      <td>1.28</td>\n",
              "      <td>4.38</td>\n",
              "      <td>1.05</td>\n",
              "      <td>3.40</td>\n",
              "      <td>1050</td>\n",
              "    </tr>\n",
              "    <tr>\n",
              "      <th>2</th>\n",
              "      <td>1</td>\n",
              "      <td>13.16</td>\n",
              "      <td>2.36</td>\n",
              "      <td>2.67</td>\n",
              "      <td>18.6</td>\n",
              "      <td>101</td>\n",
              "      <td>2.80</td>\n",
              "      <td>3.24</td>\n",
              "      <td>0.30</td>\n",
              "      <td>2.81</td>\n",
              "      <td>5.68</td>\n",
              "      <td>1.03</td>\n",
              "      <td>3.17</td>\n",
              "      <td>1185</td>\n",
              "    </tr>\n",
              "    <tr>\n",
              "      <th>3</th>\n",
              "      <td>1</td>\n",
              "      <td>14.37</td>\n",
              "      <td>1.95</td>\n",
              "      <td>2.50</td>\n",
              "      <td>16.8</td>\n",
              "      <td>113</td>\n",
              "      <td>3.85</td>\n",
              "      <td>3.49</td>\n",
              "      <td>0.24</td>\n",
              "      <td>2.18</td>\n",
              "      <td>7.80</td>\n",
              "      <td>0.86</td>\n",
              "      <td>3.45</td>\n",
              "      <td>1480</td>\n",
              "    </tr>\n",
              "  </tbody>\n",
              "</table>\n",
              "</div>"
            ],
            "text/plain": [
              "   #Wine  Alcohol  Malic.acid   Ash  ...  Color.int   Hue    OD  Proline\n",
              "0      1    14.23        1.71  2.43  ...       5.64  1.04  3.92     1065\n",
              "1      1    13.20        1.78  2.14  ...       4.38  1.05  3.40     1050\n",
              "2      1    13.16        2.36  2.67  ...       5.68  1.03  3.17     1185\n",
              "3      1    14.37        1.95  2.50  ...       7.80  0.86  3.45     1480\n",
              "\n",
              "[4 rows x 14 columns]"
            ]
          },
          "metadata": {
            "tags": []
          },
          "execution_count": 39
        }
      ]
    },
    {
      "cell_type": "code",
      "metadata": {
        "id": "OEZsFwg3LKZb",
        "colab_type": "code",
        "outputId": "4d2fc7ba-64f1-4b0d-e1da-344db7515e2c",
        "colab": {
          "base_uri": "https://localhost:8080/",
          "height": 34
        }
      },
      "source": [
        "data = np.loadtxt(\"/content/drive/My Drive/files/wine.csv\", delimiter=\",\", dtype=np.float32)\n",
        "print(data.shape) \n",
        "\n",
        "dim = 13   #특징 차원 = 13개\n",
        "x_data = data[:, 1:] #x는 두번째부터 끝까지\n",
        "y_data = data[:,0] -1   #y는 첫번째, 레이블이 1~3으로 되어있어서 1을 빼서 0~2로 만듬.\n",
        "x_data = x_data / np.max(x_data, axis=0) #데이터를 0~1로 정규화."
      ],
      "execution_count": 0,
      "outputs": [
        {
          "output_type": "stream",
          "text": [
            "(178, 14)\n"
          ],
          "name": "stdout"
        }
      ]
    },
    {
      "cell_type": "code",
      "metadata": {
        "id": "wHqeln4xLg9l",
        "colab_type": "code",
        "colab": {}
      },
      "source": [
        "x = tf.placeholder(\"float\", [None, dim])\n",
        "y = tf.one_hot(y_data, 3) #one_hot함수를 호출해 num*3\n",
        "\n",
        "w = tf.Variable(tf.random_normal([dim, 3])) #13*3 행렬을 생성.\n",
        "b = tf.Variable(tf.random_normal([3])) #클래스마다 추정되어야 해서 크기 3의 벡터로 초기화.\n",
        "\n",
        "hypothesis = tf.nn.softmax(tf.matmul(x, w) + b) #소프트맥스 출력값이 계산.\n",
        "\n",
        "\n",
        "cost = tf.reduce_mean(-tf.reduce_sum(y * tf.log(hypothesis), axis=1))\n",
        "update = tf.train.GradientDescentOptimizer(learning_rate=0.1).minimize(cost)"
      ],
      "execution_count": 0,
      "outputs": []
    },
    {
      "cell_type": "code",
      "metadata": {
        "id": "4NhWFn3SLxDP",
        "colab_type": "code",
        "outputId": "affd67c3-0294-4409-e09b-f88d58660054",
        "colab": {
          "base_uri": "https://localhost:8080/",
          "height": 228
        }
      },
      "source": [
        "sess.run(tf.global_variables_initializer())\n",
        "\n",
        "for step in range(5001):\n",
        "    sess.run(update, feed_dict={x: x_data})\n",
        "    if step % 500 == 0:\n",
        "           print(step, sess.run(cost, feed_dict={x: x_data}))      \n",
        "            \n",
        "predicted = tf.argmax(hypothesis, 1)\n",
        "compared = tf.equal(predicted , tf.argmax(y, 1))\n",
        "accuracy = tf.reduce_mean(tf.cast(compared, tf.float32))\n",
        "\n",
        "print(\"인식률\",   sess.run(accuracy,  feed_dict={x: x_data}) )"
      ],
      "execution_count": 0,
      "outputs": [
        {
          "output_type": "stream",
          "text": [
            "0 1.694821\n",
            "500 0.3809624\n",
            "1000 0.26502162\n",
            "1500 0.21477517\n",
            "2000 0.18540628\n",
            "2500 0.16560906\n",
            "3000 0.15109758\n",
            "3500 0.13985756\n",
            "4000 0.13080528\n",
            "4500 0.12330065\n",
            "5000 0.11693858\n",
            "인식률 0.9831461\n"
          ],
          "name": "stdout"
        }
      ]
    },
    {
      "cell_type": "code",
      "metadata": {
        "id": "zJX1xDZML1uV",
        "colab_type": "code",
        "outputId": "d631f581-4e97-4508-dacc-35558cce6139",
        "colab": {
          "base_uri": "https://localhost:8080/",
          "height": 442
        }
      },
      "source": [
        "#데이터를 어떻게 분류했는지 178개 데이터에 대한 softmax 출력값을 이미지로 출력.\n",
        "\n",
        "h = sess.run(hypothesis, feed_dict={x: x_data})\n",
        "plt.figure(1, figsize=(16,8))\n",
        "#178*3 행렬을 transpose를 통해 3*178로 변환.\n",
        "#이를 한개의 그래프로 출력하기에는 힘들어서 클래스 별로 나눔.\n",
        "#0~58, 59~129, 나머지 이렇게 클래스 3개로 나눔.\n",
        "plt.subplot(3,1,1)\n",
        "plt.imshow(h[0:59].T, cmap='gray')\n",
        "plt.subplot(3,1,2)\n",
        "plt.imshow(h[59:130].T, cmap='gray')\n",
        "plt.subplot(3,1,3)\n",
        "plt.imshow(h[130:178].T, cmap='gray')\n",
        "#붓꽃에 비해서 복잡함.\n",
        "#클래스가 명확하기 구분될수도 아닐 수도 있음.\n",
        "#클래스1의 5번째 데이터가 잘못 나왔음을 알 수 있음."
      ],
      "execution_count": 0,
      "outputs": [
        {
          "output_type": "execute_result",
          "data": {
            "text/plain": [
              "<matplotlib.image.AxesImage at 0x7f3b5b26ef60>"
            ]
          },
          "metadata": {
            "tags": []
          },
          "execution_count": 44
        },
        {
          "output_type": "display_data",
          "data": {
            "image/png": "[encoded data removed]",
            "text/plain": [
              "<Figure size 1152x576 with 3 Axes>"
            ]
          },
          "metadata": {
            "tags": []
          }
        }
      ]
    },
    {
      "cell_type": "code",
      "metadata": {
        "id": "ncFW-c8WMfKX",
        "colab_type": "code",
        "outputId": "044deff9-935d-40db-a099-e553c81b2520",
        "colab": {
          "base_uri": "https://localhost:8080/",
          "height": 517
        }
      },
      "source": [
        "#확률값을 다른 형태의 그래프로 출력.\n",
        "#이 때, 넘파이의 where함수를 사용해 학습데이터 중 label이 0인 데이터만 출력.\n",
        "labels = [\"wine-1\", \"wine-2\", \"wine-3\"]\n",
        "\n",
        "plt.figure(1, figsize=(10,8))\n",
        "\n",
        "idx = np.where( y_data  == 0)[0]\n",
        "\n",
        "print(h[4])\n",
        "for i in range(10) :\n",
        "    plt.subplot(2, 5, i+1)\n",
        "    plt.bar(labels, h[idx[i]])\n",
        "    plt.xlabel(\"{}-> {} {:2.0f}%\".format(labels[int(y_data[i])], labels[p[i]], 100*np.max(h[i], axis=0) )    )\n",
        "#10개의 그래프를 출력. 소프트맥스 출력값을 바로 표시\n",
        "#학습 데이터 레이블, 예측 레이블, 최대 확률값을 출력.\n",
        "#5번째 샘플에 대해 분류가 잘못되었음을 알 수 있음."
      ],
      "execution_count": 0,
      "outputs": [
        {
          "output_type": "stream",
          "text": [
            "[0.4166082  0.5649045  0.01848727]\n"
          ],
          "name": "stdout"
        },
        {
          "output_type": "display_data",
          "data": {
            "image/png": "[encoded data removed]",
            "text/plain": [
              "<Figure size 720x576 with 10 Axes>"
            ]
          },
          "metadata": {
            "tags": []
          }
        }
      ]
    },
    {
      "cell_type": "code",
      "metadata": {
        "id": "PsMNNVpHM72n",
        "colab_type": "code",
        "outputId": "09c6fcc8-9af4-4b75-bb4f-46e4e43cf6d8",
        "colab": {
          "base_uri": "https://localhost:8080/",
          "height": 517
        }
      },
      "source": [
        "#어떤 샘플에 오류가 발생했는지 명확하게 보이려 색깔 변경.\n",
        "labels = [\"wine-1\", \"wine-2\", \"wine-3\"]\n",
        "\n",
        "plt.figure(1, figsize=(10,8))\n",
        "\n",
        "idx = np.where( y_data  == 0)[0]\n",
        "\n",
        "print(h[4])\n",
        "for i in range(10) :\n",
        "    plt.subplot(2, 5, i+1)\n",
        "    c =  \"blue\" if  p[idx[i]] == y_data[idx[i]]   else \"red\"\n",
        "    plt.bar(labels, h[idx[i]], color=c)\n",
        "    plt.xlabel(\"{}-> {} {:2.0f}%\".format(labels[int(y_data[i])], labels[p[i]], 100*np.max(h[i], axis=0) ) ,color = c   )\n",
        "\n",
        "#오류 발생"
      ],
      "execution_count": 0,
      "outputs": [
        {
          "output_type": "stream",
          "text": [
            "[0.4166082  0.5649045  0.01848727]\n"
          ],
          "name": "stdout"
        },
        {
          "output_type": "display_data",
          "data": {
            "image/png": "[encoded data removed]",
            "text/plain": [
              "<Figure size 720x576 with 10 Axes>"
            ]
          },
          "metadata": {
            "tags": []
          }
        }
      ]
    },
    {
      "cell_type": "code",
      "metadata": {
        "id": "dHbK8wJ0NQ6T",
        "colab_type": "code",
        "outputId": "57b3e80c-e5b2-43df-e9fe-b33fddd2f521",
        "colab": {
          "base_uri": "https://localhost:8080/",
          "height": 70
        }
      },
      "source": [
        "#confusion matrix를 이용해 다중 class의 학습 결과를 분석\n",
        "#confusion matrix는 학습 모델이 제대로 동작하는지 아니면 어느 클래스를 헷깔려하는지 파악 가능.\n",
        "#행은 실제 클래스, 열은 예측한 클래스.\n",
        "#따라서 클래스 * 클래스가 confusion matrix 크기.\n",
        "y =    [0, 0, 1, 1, 2, 2]\n",
        "pred = [0, 0, 1, 0, 1, 1]\n",
        "#정확도 - 3/6\n",
        "\n",
        "confusion_matrix = tf.confusion_matrix(labels=y, predictions=pred, num_classes=3)  #(\"레이블, 예측값, 클래스 수\")  \n",
        "cm = sess.run(confusion_matrix)\n",
        "\n",
        "print(cm)\n",
        "#두번째 행의 의미: 실제 1번 클래스를 0번클래스로 고려한 게 1번\n",
        "#이를 통해 어떤 클래스끼리 서로 혼동되었는지 알 수 있음. 대각선 값을 모두 더한 것이 정답의 개수."
      ],
      "execution_count": 0,
      "outputs": [
        {
          "output_type": "stream",
          "text": [
            "[[2 0 0]\n",
            " [1 1 0]\n",
            " [0 2 0]]\n"
          ],
          "name": "stdout"
        }
      ]
    },
    {
      "cell_type": "code",
      "metadata": {
        "id": "H4v2BcA7OBR6",
        "colab_type": "code",
        "outputId": "330289ed-5653-4b41-c6d8-65740a10848c",
        "colab": {
          "base_uri": "https://localhost:8080/",
          "height": 70
        }
      },
      "source": [
        "#confusion matrix는 정규화를 통해 확률값으로 변경 가능\n",
        "normal_cm  = cm / cm.sum(axis=1)\n",
        "print(normal_cm)"
      ],
      "execution_count": 0,
      "outputs": [
        {
          "output_type": "stream",
          "text": [
            "[[1.  0.  0. ]\n",
            " [0.5 0.5 0. ]\n",
            " [0.  1.  0. ]]\n"
          ],
          "name": "stdout"
        }
      ]
    },
    {
      "cell_type": "code",
      "metadata": {
        "id": "dFmqykR2NP35",
        "colab_type": "code",
        "outputId": "677d2f55-3909-40af-dfe9-f23274cc4667",
        "colab": {
          "base_uri": "https://localhost:8080/",
          "height": 122
        }
      },
      "source": [
        "p = sess.run(predicted, feed_dict={x: x_data})\n",
        "confusion_matrix = tf.confusion_matrix(labels=y_data, predictions=p, num_classes=3)    \n",
        "cm = sess.run(confusion_matrix)\n",
        "\n",
        "print(cm)\n",
        "\n",
        "normal_cm  = cm / cm.sum(axis=1).reshape(3,1)\n",
        "print(normal_cm)\n",
        "\n",
        "#대각선의 값을 보고 얼마나 학습이 잘 되었는지 파악 가능."
      ],
      "execution_count": 0,
      "outputs": [
        {
          "output_type": "stream",
          "text": [
            "[[57  2  0]\n",
            " [ 1 70  0]\n",
            " [ 0  0 48]]\n",
            "[[0.96610169 0.03389831 0.        ]\n",
            " [0.01408451 0.98591549 0.        ]\n",
            " [0.         0.         1.        ]]\n"
          ],
          "name": "stdout"
        }
      ]
    }
  ]
}